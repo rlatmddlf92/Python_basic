{
 "cells": [
  {
   "cell_type": "markdown",
   "metadata": {},
   "source": [
    "# Jupyter notebook 실습\n",
    "* [4차산업과정 홈](https://mdhub.io/view/bq2)\n",
    "* 나의 첫번째 실습"
   ]
  },
  {
   "cell_type": "code",
   "execution_count": 1,
   "metadata": {},
   "outputs": [
    {
     "name": "stdout",
     "output_type": "stream",
     "text": [
      "abc\n"
     ]
    }
   ],
   "source": [
    "print('abc')"
   ]
  },
  {
   "cell_type": "markdown",
   "metadata": {},
   "source": [
    "# for문\n",
    "* : 이 마지막에 있음\n",
    "* 하위 명령문은 indentation되어 있어야 함"
   ]
  },
  {
   "cell_type": "code",
   "execution_count": 8,
   "metadata": {
    "scrolled": true
   },
   "outputs": [
    {
     "name": "stdout",
     "output_type": "stream",
     "text": [
      "[0, 1, 2, 3, 4, 5, 6, 7, 8, 9]\n"
     ]
    }
   ],
   "source": [
    "list1=[]\n",
    "for i in range(10):\n",
    "    list1.append(i)\n",
    "print(list1)"
   ]
  },
  {
   "cell_type": "code",
   "execution_count": 8,
   "metadata": {},
   "outputs": [
    {
     "data": {
      "text/plain": [
       "[0, 1, 2, 3, 4, 5, 6, 7, 8, 9]"
      ]
     },
     "execution_count": 8,
     "metadata": {},
     "output_type": "execute_result"
    }
   ],
   "source": [
    "list1=[]\n",
    "for i in range(10):\n",
    "    list1.append(i)\n",
    "list1"
   ]
  },
  {
   "cell_type": "code",
   "execution_count": 10,
   "metadata": {},
   "outputs": [
    {
     "name": "stdout",
     "output_type": "stream",
     "text": [
      "1\n",
      "[1]\n",
      "2\n",
      "[1, 2]\n",
      "3\n",
      "[1, 2, 3]\n",
      "4\n",
      "[1, 2, 3, 4]\n",
      "[1, 2, 3, 4]\n"
     ]
    }
   ],
   "source": [
    "list1=[]\n",
    "for i in range(1,5):\n",
    "    print(i) \n",
    "    list1.append(i)\n",
    "    print(list1)\n",
    "print(list1)"
   ]
  },
  {
   "cell_type": "code",
   "execution_count": 11,
   "metadata": {},
   "outputs": [
    {
     "name": "stdout",
     "output_type": "stream",
     "text": [
      "[0, 10, 20, 30, 40, 50, 60, 70, 80, 90]\n"
     ]
    }
   ],
   "source": [
    "list1=[i*10 for i in range(10)]\n",
    "print(list1)"
   ]
  },
  {
   "cell_type": "code",
   "execution_count": 20,
   "metadata": {},
   "outputs": [
    {
     "name": "stdout",
     "output_type": "stream",
     "text": [
      "[9, 99, 0, 10, 20, 30, 40, 50, 60, 70, 80, 90]\n"
     ]
    }
   ],
   "source": [
    "list1=[9,99]\n",
    "for i in range(10):\n",
    "    list1.append(i*10)\n",
    "print(list1)"
   ]
  },
  {
   "cell_type": "markdown",
   "metadata": {},
   "source": [
    "# list의 index\n",
    "* 아래의 숫자 5는 index\n",
    "* index는 0부터 시작함\n",
    "* 5는 0, 1, 2, 3, 4, 5로 여섯번째임\n",
    "\n",
    "* slicing"
   ]
  },
  {
   "cell_type": "code",
   "execution_count": 30,
   "metadata": {},
   "outputs": [
    {
     "name": "stdout",
     "output_type": "stream",
     "text": [
      "90\n"
     ]
    }
   ],
   "source": [
    "print(list1[-1])"
   ]
  },
  {
   "cell_type": "code",
   "execution_count": 37,
   "metadata": {},
   "outputs": [
    {
     "name": "stdout",
     "output_type": "stream",
     "text": [
      "[90, 70, 50, 30, 10, 99]\n"
     ]
    }
   ],
   "source": [
    "print(list1[::-2])"
   ]
  },
  {
   "cell_type": "code",
   "execution_count": 33,
   "metadata": {},
   "outputs": [
    {
     "name": "stdout",
     "output_type": "stream",
     "text": [
      "[20, 30]\n"
     ]
    }
   ],
   "source": [
    "print(list1[3:-3][1:3])"
   ]
  },
  {
   "cell_type": "code",
   "execution_count": null,
   "metadata": {},
   "outputs": [],
   "source": [
    "print(list1[5])\n",
    "print(list1[:3])\n",
    "print(list1[1:3])\n",
    "list1[-3:]"
   ]
  },
  {
   "cell_type": "markdown",
   "metadata": {},
   "source": [
    "# Structure Programming Language의 세가지 문법\n",
    "* 순차실행문 : 순서대로 실행함\n",
    "* 조건문 : 참이면 if를 실행하고, 거짓이면 else를 실행\n",
    "* 반복문 : 조건을 만족하면 계속 반복함\n",
    "\n",
    "# Object Oriented Programming Language(OOP)\n",
    "* C++, Java, C#, Python, Javascript\n",
    "\n",
    "# Functional Programming Language(함수형 언어)\n",
    "* Javascript, Julia, Scala, Going\n",
    "* Python"
   ]
  },
  {
   "cell_type": "code",
   "execution_count": 45,
   "metadata": {},
   "outputs": [
    {
     "name": "stdout",
     "output_type": "stream",
     "text": [
      "0 0 0\n",
      "[0]\n",
      "1 1 2\n",
      "[0, 2]\n",
      "2 2 200\n",
      "[0, 2, 200]\n",
      "3 1 6\n",
      "[0, 2, 200, 6]\n",
      "4 4 400\n",
      "[0, 2, 200, 6, 400]\n",
      "5 1 10\n",
      "[0, 2, 200, 6, 400, 10]\n",
      "6 6 600\n",
      "[0, 2, 200, 6, 400, 10, 600]\n",
      "7 1 14\n",
      "[0, 2, 200, 6, 400, 10, 600, 14]\n",
      "8 8 800\n",
      "[0, 2, 200, 6, 400, 10, 600, 14, 800]\n",
      "9 1 18\n",
      "[0, 2, 200, 6, 400, 10, 600, 14, 800, 18]\n",
      "[0, 2, 200, 6, 400, 10, 600, 14, 800, 18]\n"
     ]
    }
   ],
   "source": [
    "list2=[]\n",
    "for i in range(10):\n",
    "    \n",
    "    if i%2:\n",
    "        print(i,i%2,i*2)\n",
    "        list2.append(i*2)    \n",
    "    else:\n",
    "        print(i,i%100,i*100)\n",
    "        list2.append(i*100) \n",
    "    print(list2)\n",
    "print(list2)"
   ]
  },
  {
   "cell_type": "code",
   "execution_count": 46,
   "metadata": {},
   "outputs": [
    {
     "name": "stdout",
     "output_type": "stream",
     "text": [
      "[0, 2, 200, 6, 400, 10, 600, 14, 800, 18]\n",
      "0\n",
      "2\n",
      "200\n",
      "6\n",
      "400\n",
      "10\n",
      "600\n",
      "14\n",
      "800\n",
      "18\n"
     ]
    }
   ],
   "source": [
    "list2=[i*2 if i%2 else i*100 for i in range(10)]\n",
    "print(list2)\n",
    "for i in list2:\n",
    "    print(i)"
   ]
  },
  {
   "cell_type": "code",
   "execution_count": 47,
   "metadata": {},
   "outputs": [
    {
     "name": "stdout",
     "output_type": "stream",
     "text": [
      "{'Name': 'Zara', 'Age': 7, 'Class': 'First'}\n",
      "{'Name': 'Zara', 'Age': 7, 'Class': 'First', '국가': '스페인', 'abc': [1, 2, 3]}\n",
      "Name  ::  Zara\n",
      "Age  ::  7\n",
      "Class  ::  First\n",
      "국가  ::  스페인\n",
      "abc  ::  [1, 2, 3]\n"
     ]
    }
   ],
   "source": [
    "dict1 = {'Name': 'Zara', 'Age': 7, 'Class': 'First'}\n",
    "print(dict1)\n",
    "dict1['국가']='스페인'\n",
    "dict1['abc']=[1,2,3]\n",
    "print(dict1)\n",
    "for key, value in dict1.items():\n",
    "    print(key, \" :: \", value)"
   ]
  },
  {
   "cell_type": "markdown",
   "metadata": {},
   "source": [
    "# 빅데이터 맛보기\n",
    "* 보통 데이터는 table형태\n",
    "* table형태는 excel, SQL(관계형 데이터베이스), CSV(콤마로 구분된 파일)\n",
    "* 정형화된 table 데이터를 주로 다룸\n",
    "* 반정형화된 tree구조 : json\n",
    "* 비정형 데이터 : image, video"
   ]
  },
  {
   "cell_type": "code",
   "execution_count": 48,
   "metadata": {},
   "outputs": [],
   "source": [
    "import pandas as pd\n",
    "df = pd.read_json('http://aopt.biz/lecture/cars.json')"
   ]
  },
  {
   "cell_type": "code",
   "execution_count": 49,
   "metadata": {},
   "outputs": [
    {
     "data": {
      "text/html": [
       "<div>\n",
       "<style scoped>\n",
       "    .dataframe tbody tr th:only-of-type {\n",
       "        vertical-align: middle;\n",
       "    }\n",
       "\n",
       "    .dataframe tbody tr th {\n",
       "        vertical-align: top;\n",
       "    }\n",
       "\n",
       "    .dataframe thead th {\n",
       "        text-align: right;\n",
       "    }\n",
       "</style>\n",
       "<table border=\"1\" class=\"dataframe\">\n",
       "  <thead>\n",
       "    <tr style=\"text-align: right;\">\n",
       "      <th></th>\n",
       "      <th>Acceleration</th>\n",
       "      <th>Cylinders</th>\n",
       "      <th>Displacement</th>\n",
       "      <th>Horsepower</th>\n",
       "      <th>Miles_per_Gallon</th>\n",
       "      <th>Name</th>\n",
       "      <th>Origin</th>\n",
       "      <th>Weight_in_lbs</th>\n",
       "      <th>Year</th>\n",
       "    </tr>\n",
       "  </thead>\n",
       "  <tbody>\n",
       "    <tr>\n",
       "      <th>0</th>\n",
       "      <td>12.0</td>\n",
       "      <td>8</td>\n",
       "      <td>307.0</td>\n",
       "      <td>130.0</td>\n",
       "      <td>18.0</td>\n",
       "      <td>chevrolet chevelle malibu</td>\n",
       "      <td>USA</td>\n",
       "      <td>3504</td>\n",
       "      <td>1970</td>\n",
       "    </tr>\n",
       "    <tr>\n",
       "      <th>1</th>\n",
       "      <td>11.5</td>\n",
       "      <td>8</td>\n",
       "      <td>350.0</td>\n",
       "      <td>165.0</td>\n",
       "      <td>15.0</td>\n",
       "      <td>buick skylark 320</td>\n",
       "      <td>USA</td>\n",
       "      <td>3693</td>\n",
       "      <td>1970</td>\n",
       "    </tr>\n",
       "    <tr>\n",
       "      <th>2</th>\n",
       "      <td>11.0</td>\n",
       "      <td>8</td>\n",
       "      <td>318.0</td>\n",
       "      <td>150.0</td>\n",
       "      <td>18.0</td>\n",
       "      <td>plymouth satellite</td>\n",
       "      <td>USA</td>\n",
       "      <td>3436</td>\n",
       "      <td>1970</td>\n",
       "    </tr>\n",
       "    <tr>\n",
       "      <th>3</th>\n",
       "      <td>12.0</td>\n",
       "      <td>8</td>\n",
       "      <td>304.0</td>\n",
       "      <td>150.0</td>\n",
       "      <td>16.0</td>\n",
       "      <td>amc rebel sst</td>\n",
       "      <td>USA</td>\n",
       "      <td>3433</td>\n",
       "      <td>1970</td>\n",
       "    </tr>\n",
       "    <tr>\n",
       "      <th>4</th>\n",
       "      <td>10.5</td>\n",
       "      <td>8</td>\n",
       "      <td>302.0</td>\n",
       "      <td>140.0</td>\n",
       "      <td>17.0</td>\n",
       "      <td>ford torino</td>\n",
       "      <td>USA</td>\n",
       "      <td>3449</td>\n",
       "      <td>1970</td>\n",
       "    </tr>\n",
       "  </tbody>\n",
       "</table>\n",
       "</div>"
      ],
      "text/plain": [
       "   Acceleration  Cylinders  Displacement  Horsepower  Miles_per_Gallon  \\\n",
       "0          12.0          8         307.0       130.0              18.0   \n",
       "1          11.5          8         350.0       165.0              15.0   \n",
       "2          11.0          8         318.0       150.0              18.0   \n",
       "3          12.0          8         304.0       150.0              16.0   \n",
       "4          10.5          8         302.0       140.0              17.0   \n",
       "\n",
       "                        Name Origin  Weight_in_lbs  Year  \n",
       "0  chevrolet chevelle malibu    USA           3504  1970  \n",
       "1          buick skylark 320    USA           3693  1970  \n",
       "2         plymouth satellite    USA           3436  1970  \n",
       "3              amc rebel sst    USA           3433  1970  \n",
       "4                ford torino    USA           3449  1970  "
      ]
     },
     "execution_count": 49,
     "metadata": {},
     "output_type": "execute_result"
    }
   ],
   "source": [
    "df.head()"
   ]
  },
  {
   "cell_type": "code",
   "execution_count": 50,
   "metadata": {},
   "outputs": [
    {
     "data": {
      "text/html": [
       "<div>\n",
       "<style scoped>\n",
       "    .dataframe tbody tr th:only-of-type {\n",
       "        vertical-align: middle;\n",
       "    }\n",
       "\n",
       "    .dataframe tbody tr th {\n",
       "        vertical-align: top;\n",
       "    }\n",
       "\n",
       "    .dataframe thead th {\n",
       "        text-align: right;\n",
       "    }\n",
       "</style>\n",
       "<table border=\"1\" class=\"dataframe\">\n",
       "  <thead>\n",
       "    <tr style=\"text-align: right;\">\n",
       "      <th></th>\n",
       "      <th>Acceleration</th>\n",
       "      <th>Cylinders</th>\n",
       "      <th>Displacement</th>\n",
       "      <th>Horsepower</th>\n",
       "      <th>Miles_per_Gallon</th>\n",
       "      <th>Name</th>\n",
       "      <th>Origin</th>\n",
       "      <th>Weight_in_lbs</th>\n",
       "      <th>Year</th>\n",
       "    </tr>\n",
       "  </thead>\n",
       "  <tbody>\n",
       "    <tr>\n",
       "      <th>401</th>\n",
       "      <td>15.6</td>\n",
       "      <td>4</td>\n",
       "      <td>140.0</td>\n",
       "      <td>86.0</td>\n",
       "      <td>27.0</td>\n",
       "      <td>ford mustang gl</td>\n",
       "      <td>USA</td>\n",
       "      <td>2790</td>\n",
       "      <td>1982</td>\n",
       "    </tr>\n",
       "    <tr>\n",
       "      <th>402</th>\n",
       "      <td>24.6</td>\n",
       "      <td>4</td>\n",
       "      <td>97.0</td>\n",
       "      <td>52.0</td>\n",
       "      <td>44.0</td>\n",
       "      <td>vw pickup</td>\n",
       "      <td>Europe</td>\n",
       "      <td>2130</td>\n",
       "      <td>1982</td>\n",
       "    </tr>\n",
       "    <tr>\n",
       "      <th>403</th>\n",
       "      <td>11.6</td>\n",
       "      <td>4</td>\n",
       "      <td>135.0</td>\n",
       "      <td>84.0</td>\n",
       "      <td>32.0</td>\n",
       "      <td>dodge rampage</td>\n",
       "      <td>USA</td>\n",
       "      <td>2295</td>\n",
       "      <td>1982</td>\n",
       "    </tr>\n",
       "    <tr>\n",
       "      <th>404</th>\n",
       "      <td>18.6</td>\n",
       "      <td>4</td>\n",
       "      <td>120.0</td>\n",
       "      <td>79.0</td>\n",
       "      <td>28.0</td>\n",
       "      <td>ford ranger</td>\n",
       "      <td>USA</td>\n",
       "      <td>2625</td>\n",
       "      <td>1982</td>\n",
       "    </tr>\n",
       "    <tr>\n",
       "      <th>405</th>\n",
       "      <td>19.4</td>\n",
       "      <td>4</td>\n",
       "      <td>119.0</td>\n",
       "      <td>82.0</td>\n",
       "      <td>31.0</td>\n",
       "      <td>chevy s-10</td>\n",
       "      <td>USA</td>\n",
       "      <td>2720</td>\n",
       "      <td>1982</td>\n",
       "    </tr>\n",
       "  </tbody>\n",
       "</table>\n",
       "</div>"
      ],
      "text/plain": [
       "     Acceleration  Cylinders  Displacement  Horsepower  Miles_per_Gallon  \\\n",
       "401          15.6          4         140.0        86.0              27.0   \n",
       "402          24.6          4          97.0        52.0              44.0   \n",
       "403          11.6          4         135.0        84.0              32.0   \n",
       "404          18.6          4         120.0        79.0              28.0   \n",
       "405          19.4          4         119.0        82.0              31.0   \n",
       "\n",
       "                Name  Origin  Weight_in_lbs  Year  \n",
       "401  ford mustang gl     USA           2790  1982  \n",
       "402        vw pickup  Europe           2130  1982  \n",
       "403    dodge rampage     USA           2295  1982  \n",
       "404      ford ranger     USA           2625  1982  \n",
       "405       chevy s-10     USA           2720  1982  "
      ]
     },
     "execution_count": 50,
     "metadata": {},
     "output_type": "execute_result"
    }
   ],
   "source": [
    "df.tail()"
   ]
  },
  {
   "cell_type": "code",
   "execution_count": 54,
   "metadata": {},
   "outputs": [
    {
     "data": {
      "text/html": [
       "<div>\n",
       "<style scoped>\n",
       "    .dataframe tbody tr th:only-of-type {\n",
       "        vertical-align: middle;\n",
       "    }\n",
       "\n",
       "    .dataframe tbody tr th {\n",
       "        vertical-align: top;\n",
       "    }\n",
       "\n",
       "    .dataframe thead th {\n",
       "        text-align: right;\n",
       "    }\n",
       "</style>\n",
       "<table border=\"1\" class=\"dataframe\">\n",
       "  <thead>\n",
       "    <tr style=\"text-align: right;\">\n",
       "      <th></th>\n",
       "      <th>Acceleration</th>\n",
       "      <th>Cylinders</th>\n",
       "      <th>Displacement</th>\n",
       "      <th>Horsepower</th>\n",
       "      <th>Miles_per_Gallon</th>\n",
       "      <th>Name</th>\n",
       "      <th>Origin</th>\n",
       "      <th>Weight_in_lbs</th>\n",
       "      <th>Year</th>\n",
       "    </tr>\n",
       "  </thead>\n",
       "  <tbody>\n",
       "    <tr>\n",
       "      <th>403</th>\n",
       "      <td>11.6</td>\n",
       "      <td>4</td>\n",
       "      <td>135.0</td>\n",
       "      <td>84.0</td>\n",
       "      <td>32.0</td>\n",
       "      <td>dodge rampage</td>\n",
       "      <td>USA</td>\n",
       "      <td>2295</td>\n",
       "      <td>1982</td>\n",
       "    </tr>\n",
       "    <tr>\n",
       "      <th>404</th>\n",
       "      <td>18.6</td>\n",
       "      <td>4</td>\n",
       "      <td>120.0</td>\n",
       "      <td>79.0</td>\n",
       "      <td>28.0</td>\n",
       "      <td>ford ranger</td>\n",
       "      <td>USA</td>\n",
       "      <td>2625</td>\n",
       "      <td>1982</td>\n",
       "    </tr>\n",
       "    <tr>\n",
       "      <th>405</th>\n",
       "      <td>19.4</td>\n",
       "      <td>4</td>\n",
       "      <td>119.0</td>\n",
       "      <td>82.0</td>\n",
       "      <td>31.0</td>\n",
       "      <td>chevy s-10</td>\n",
       "      <td>USA</td>\n",
       "      <td>2720</td>\n",
       "      <td>1982</td>\n",
       "    </tr>\n",
       "  </tbody>\n",
       "</table>\n",
       "</div>"
      ],
      "text/plain": [
       "     Acceleration  Cylinders  Displacement  Horsepower  Miles_per_Gallon  \\\n",
       "403          11.6          4         135.0        84.0              32.0   \n",
       "404          18.6          4         120.0        79.0              28.0   \n",
       "405          19.4          4         119.0        82.0              31.0   \n",
       "\n",
       "              Name Origin  Weight_in_lbs  Year  \n",
       "403  dodge rampage    USA           2295  1982  \n",
       "404    ford ranger    USA           2625  1982  \n",
       "405     chevy s-10    USA           2720  1982  "
      ]
     },
     "execution_count": 54,
     "metadata": {},
     "output_type": "execute_result"
    }
   ],
   "source": [
    "#df.loc[0]\n",
    "#df.loc[2:4]   \n",
    "df.iloc[2:4,0:5]\n",
    "df.iloc[-3:]"
   ]
  },
  {
   "cell_type": "markdown",
   "metadata": {},
   "source": [
    "# describe는 기본 통계값을 보여줌\n",
    "* data type이 int나 float가 되어야 함"
   ]
  },
  {
   "cell_type": "code",
   "execution_count": 55,
   "metadata": {},
   "outputs": [
    {
     "data": {
      "text/html": [
       "<div>\n",
       "<style scoped>\n",
       "    .dataframe tbody tr th:only-of-type {\n",
       "        vertical-align: middle;\n",
       "    }\n",
       "\n",
       "    .dataframe tbody tr th {\n",
       "        vertical-align: top;\n",
       "    }\n",
       "\n",
       "    .dataframe thead th {\n",
       "        text-align: right;\n",
       "    }\n",
       "</style>\n",
       "<table border=\"1\" class=\"dataframe\">\n",
       "  <thead>\n",
       "    <tr style=\"text-align: right;\">\n",
       "      <th></th>\n",
       "      <th>Acceleration</th>\n",
       "      <th>Cylinders</th>\n",
       "      <th>Displacement</th>\n",
       "      <th>Horsepower</th>\n",
       "      <th>Miles_per_Gallon</th>\n",
       "      <th>Weight_in_lbs</th>\n",
       "      <th>Year</th>\n",
       "    </tr>\n",
       "  </thead>\n",
       "  <tbody>\n",
       "    <tr>\n",
       "      <th>count</th>\n",
       "      <td>406.000000</td>\n",
       "      <td>406.000000</td>\n",
       "      <td>406.000000</td>\n",
       "      <td>400.000000</td>\n",
       "      <td>398.000000</td>\n",
       "      <td>406.000000</td>\n",
       "      <td>406.000000</td>\n",
       "    </tr>\n",
       "    <tr>\n",
       "      <th>mean</th>\n",
       "      <td>15.519704</td>\n",
       "      <td>5.475369</td>\n",
       "      <td>194.779557</td>\n",
       "      <td>105.082500</td>\n",
       "      <td>23.514573</td>\n",
       "      <td>2979.413793</td>\n",
       "      <td>1975.995074</td>\n",
       "    </tr>\n",
       "    <tr>\n",
       "      <th>std</th>\n",
       "      <td>2.803359</td>\n",
       "      <td>1.712160</td>\n",
       "      <td>104.922458</td>\n",
       "      <td>38.768779</td>\n",
       "      <td>7.815984</td>\n",
       "      <td>847.004328</td>\n",
       "      <td>3.856689</td>\n",
       "    </tr>\n",
       "    <tr>\n",
       "      <th>min</th>\n",
       "      <td>8.000000</td>\n",
       "      <td>3.000000</td>\n",
       "      <td>68.000000</td>\n",
       "      <td>46.000000</td>\n",
       "      <td>9.000000</td>\n",
       "      <td>1613.000000</td>\n",
       "      <td>1970.000000</td>\n",
       "    </tr>\n",
       "    <tr>\n",
       "      <th>25%</th>\n",
       "      <td>13.700000</td>\n",
       "      <td>4.000000</td>\n",
       "      <td>105.000000</td>\n",
       "      <td>75.750000</td>\n",
       "      <td>17.500000</td>\n",
       "      <td>2226.500000</td>\n",
       "      <td>1973.000000</td>\n",
       "    </tr>\n",
       "    <tr>\n",
       "      <th>50%</th>\n",
       "      <td>15.500000</td>\n",
       "      <td>4.000000</td>\n",
       "      <td>151.000000</td>\n",
       "      <td>95.000000</td>\n",
       "      <td>23.000000</td>\n",
       "      <td>2822.500000</td>\n",
       "      <td>1976.000000</td>\n",
       "    </tr>\n",
       "    <tr>\n",
       "      <th>75%</th>\n",
       "      <td>17.175000</td>\n",
       "      <td>8.000000</td>\n",
       "      <td>302.000000</td>\n",
       "      <td>130.000000</td>\n",
       "      <td>29.000000</td>\n",
       "      <td>3618.250000</td>\n",
       "      <td>1979.000000</td>\n",
       "    </tr>\n",
       "    <tr>\n",
       "      <th>max</th>\n",
       "      <td>24.800000</td>\n",
       "      <td>8.000000</td>\n",
       "      <td>455.000000</td>\n",
       "      <td>230.000000</td>\n",
       "      <td>46.600000</td>\n",
       "      <td>5140.000000</td>\n",
       "      <td>1982.000000</td>\n",
       "    </tr>\n",
       "  </tbody>\n",
       "</table>\n",
       "</div>"
      ],
      "text/plain": [
       "       Acceleration   Cylinders  Displacement  Horsepower  Miles_per_Gallon  \\\n",
       "count    406.000000  406.000000    406.000000  400.000000        398.000000   \n",
       "mean      15.519704    5.475369    194.779557  105.082500         23.514573   \n",
       "std        2.803359    1.712160    104.922458   38.768779          7.815984   \n",
       "min        8.000000    3.000000     68.000000   46.000000          9.000000   \n",
       "25%       13.700000    4.000000    105.000000   75.750000         17.500000   \n",
       "50%       15.500000    4.000000    151.000000   95.000000         23.000000   \n",
       "75%       17.175000    8.000000    302.000000  130.000000         29.000000   \n",
       "max       24.800000    8.000000    455.000000  230.000000         46.600000   \n",
       "\n",
       "       Weight_in_lbs         Year  \n",
       "count     406.000000   406.000000  \n",
       "mean     2979.413793  1975.995074  \n",
       "std       847.004328     3.856689  \n",
       "min      1613.000000  1970.000000  \n",
       "25%      2226.500000  1973.000000  \n",
       "50%      2822.500000  1976.000000  \n",
       "75%      3618.250000  1979.000000  \n",
       "max      5140.000000  1982.000000  "
      ]
     },
     "execution_count": 55,
     "metadata": {},
     "output_type": "execute_result"
    }
   ],
   "source": [
    "df.describe()"
   ]
  },
  {
   "cell_type": "code",
   "execution_count": 56,
   "metadata": {},
   "outputs": [
    {
     "data": {
      "text/plain": [
       "(406, 9)"
      ]
     },
     "execution_count": 56,
     "metadata": {},
     "output_type": "execute_result"
    }
   ],
   "source": [
    "df.shape"
   ]
  },
  {
   "cell_type": "markdown",
   "metadata": {},
   "source": [
    "# pandas data types\n",
    "* int: 정수\n",
    "* float: 실수\n",
    "* object: 문자열\n",
    "    * 사람이름, 문장 : 보통 분석 대상이 아님\n",
    "    * 성별, 지역, 날씨(맑음, 비, ...) : categorical data <== 분석대상\n",
    "* datatime: 날짜+시간"
   ]
  },
  {
   "cell_type": "code",
   "execution_count": 57,
   "metadata": {},
   "outputs": [
    {
     "data": {
      "text/plain": [
       "Acceleration        float64\n",
       "Cylinders             int64\n",
       "Displacement        float64\n",
       "Horsepower          float64\n",
       "Miles_per_Gallon    float64\n",
       "Name                 object\n",
       "Origin               object\n",
       "Weight_in_lbs         int64\n",
       "Year                  int64\n",
       "dtype: object"
      ]
     },
     "execution_count": 57,
     "metadata": {},
     "output_type": "execute_result"
    }
   ],
   "source": [
    "df.dtypes"
   ]
  },
  {
   "cell_type": "markdown",
   "metadata": {},
   "source": [
    "# 결측치(missing data)\n",
    "* 빅데이터 분석에서 매우 중요함\n",
    "* 방법\n",
    "    * 결측치가 있는 행을 제거\n",
    "    * 대체값(0, 평균, 최빈값 등) 으로 대체"
   ]
  },
  {
   "cell_type": "code",
   "execution_count": 58,
   "metadata": {},
   "outputs": [
    {
     "data": {
      "text/plain": [
       "Acceleration        0\n",
       "Cylinders           0\n",
       "Displacement        0\n",
       "Horsepower          6\n",
       "Miles_per_Gallon    8\n",
       "Name                0\n",
       "Origin              0\n",
       "Weight_in_lbs       0\n",
       "Year                0\n",
       "dtype: int64"
      ]
     },
     "execution_count": 58,
     "metadata": {},
     "output_type": "execute_result"
    }
   ],
   "source": [
    "df.isnull().sum()"
   ]
  },
  {
   "cell_type": "code",
   "execution_count": null,
   "metadata": {},
   "outputs": [],
   "source": [
    "df.head()"
   ]
  },
  {
   "cell_type": "code",
   "execution_count": null,
   "metadata": {},
   "outputs": [],
   "source": [
    "df.tail()"
   ]
  },
  {
   "cell_type": "code",
   "execution_count": null,
   "metadata": {},
   "outputs": [],
   "source": [
    "df[:10]"
   ]
  }
 ],
 "metadata": {
  "kernelspec": {
   "display_name": "Python 3",
   "language": "python",
   "name": "python3"
  },
  "language_info": {
   "codemirror_mode": {
    "name": "ipython",
    "version": 3
   },
   "file_extension": ".py",
   "mimetype": "text/x-python",
   "name": "python",
   "nbconvert_exporter": "python",
   "pygments_lexer": "ipython3",
   "version": "3.6.5"
  },
  "widgets": {
   "state": {},
   "version": "1.1.0"
  }
 },
 "nbformat": 4,
 "nbformat_minor": 1
}
