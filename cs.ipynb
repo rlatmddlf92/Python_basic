{
 "cells": [
  {
   "cell_type": "markdown",
   "metadata": {},
   "source": [
    "# my first jupyter notebook\n",
    "======================================\n",
    "\n",
    "## Base Types\n",
    "* integer: 정수\n",
    "* float: 소수\n",
    "* boolean: 참/거짓\n",
    "* string: 문자열\n",
    "* bytes: 바이트 "
   ]
  },
  {
   "cell_type": "code",
   "execution_count": 1,
   "metadata": {},
   "outputs": [
    {
     "name": "stdout",
     "output_type": "stream",
     "text": [
      "<class 'int'>\n",
      "783\n"
     ]
    }
   ],
   "source": [
    "x=783\n",
    "print(type(x))\n",
    "print(x)"
   ]
  },
  {
   "cell_type": "code",
   "execution_count": 2,
   "metadata": {},
   "outputs": [
    {
     "name": "stdout",
     "output_type": "stream",
     "text": [
      "<class 'int'>\n",
      "0\n"
     ]
    }
   ],
   "source": [
    "x=0\n",
    "print(type(x))\n",
    "print(x)"
   ]
  },
  {
   "cell_type": "code",
   "execution_count": 3,
   "metadata": {},
   "outputs": [
    {
     "name": "stdout",
     "output_type": "stream",
     "text": [
      "<class 'int'>\n",
      "-192\n"
     ]
    }
   ],
   "source": [
    "x=-192\n",
    "print(type(x))\n",
    "print(x)"
   ]
  },
  {
   "cell_type": "markdown",
   "metadata": {},
   "source": [
    "## 그밖의 integer 표현\n",
    "* binary : 0b010 \n",
    "* octal : 0o642\n",
    "* hexa : 0xF3"
   ]
  },
  {
   "cell_type": "code",
   "execution_count": 4,
   "metadata": {},
   "outputs": [
    {
     "name": "stdout",
     "output_type": "stream",
     "text": [
      "<class 'int'>\n",
      "2\n"
     ]
    }
   ],
   "source": [
    "x=0b010\n",
    "print(type(x))\n",
    "print(x)"
   ]
  },
  {
   "cell_type": "code",
   "execution_count": 5,
   "metadata": {},
   "outputs": [
    {
     "name": "stdout",
     "output_type": "stream",
     "text": [
      "<class 'int'>\n",
      "418\n"
     ]
    }
   ],
   "source": [
    "x=0o642\n",
    "print(type(x))\n",
    "print(x)"
   ]
  },
  {
   "cell_type": "code",
   "execution_count": 6,
   "metadata": {},
   "outputs": [
    {
     "name": "stdout",
     "output_type": "stream",
     "text": [
      "<class 'int'>\n",
      "243\n"
     ]
    }
   ],
   "source": [
    "x=0xF3\n",
    "print(type(x))\n",
    "print(x)"
   ]
  },
  {
   "cell_type": "markdown",
   "metadata": {},
   "source": [
    "### float "
   ]
  },
  {
   "cell_type": "code",
   "execution_count": 7,
   "metadata": {},
   "outputs": [
    {
     "name": "stdout",
     "output_type": "stream",
     "text": [
      "<class 'float'>\n",
      "9.23\n"
     ]
    }
   ],
   "source": [
    "x=9.23\n",
    "print(type(x))\n",
    "print(x)"
   ]
  },
  {
   "cell_type": "code",
   "execution_count": 8,
   "metadata": {},
   "outputs": [
    {
     "name": "stdout",
     "output_type": "stream",
     "text": [
      "<class 'float'>\n",
      "0.0\n"
     ]
    }
   ],
   "source": [
    "x=0.0\n",
    "print(type(x))\n",
    "print(x)"
   ]
  },
  {
   "cell_type": "code",
   "execution_count": 9,
   "metadata": {},
   "outputs": [
    {
     "name": "stdout",
     "output_type": "stream",
     "text": [
      "<class 'float'>\n",
      "-1.7e-06\n"
     ]
    }
   ],
   "source": [
    "x=-1.7e-6\n",
    "print(type(x))\n",
    "print(x)"
   ]
  },
  {
   "cell_type": "markdown",
   "metadata": {},
   "source": [
    "### boolean"
   ]
  },
  {
   "cell_type": "code",
   "execution_count": 14,
   "metadata": {},
   "outputs": [
    {
     "name": "stdout",
     "output_type": "stream",
     "text": [
      "<class 'bool'>\n",
      "True\n"
     ]
    }
   ],
   "source": [
    "x=True\n",
    "print(type(x))\n",
    "print(x)"
   ]
  },
  {
   "cell_type": "code",
   "execution_count": 15,
   "metadata": {},
   "outputs": [
    {
     "name": "stdout",
     "output_type": "stream",
     "text": [
      "<class 'bool'>\n",
      "False\n"
     ]
    }
   ],
   "source": [
    "x=False\n",
    "print(type(x))\n",
    "print(x)"
   ]
  },
  {
   "cell_type": "markdown",
   "metadata": {},
   "source": [
    "### string\n",
    "* escaped new line : \"one \\n two\"\n",
    "* Multiline string : \"\"\"x \\n tY \\n tZ \\n 1 \\n t2 \\n t3\"\"\""
   ]
  },
  {
   "cell_type": "code",
   "execution_count": 16,
   "metadata": {},
   "outputs": [
    {
     "name": "stdout",
     "output_type": "stream",
     "text": [
      "<class 'str'>\n",
      "one\n"
     ]
    }
   ],
   "source": [
    "x=\"one\"\n",
    "print(type(x))\n",
    "print(x)"
   ]
  },
  {
   "cell_type": "code",
   "execution_count": 17,
   "metadata": {},
   "outputs": [
    {
     "name": "stdout",
     "output_type": "stream",
     "text": [
      "<class 'str'>\n",
      "two\n"
     ]
    }
   ],
   "source": [
    "x=\"two\"\n",
    "print(type(x))\n",
    "print(x)"
   ]
  },
  {
   "cell_type": "markdown",
   "metadata": {},
   "source": [
    "### bytes\n",
    "* hexadecimal: xfe\n",
    "* octal: 775"
   ]
  },
  {
   "cell_type": "code",
   "execution_count": 27,
   "metadata": {},
   "outputs": [
    {
     "name": "stdout",
     "output_type": "stream",
     "text": [
      "<class 'bytes'>\n",
      "b'toto \\xfe \\xfd'\n"
     ]
    }
   ],
   "source": [
    "x=b\"toto \\xfe \\775\"\n",
    "print(type(x))\n",
    "print(x)"
   ]
  },
  {
   "cell_type": "markdown",
   "metadata": {},
   "source": [
    "# Python Collections (Arrays)\n",
    "\n",
    "* [List](http://localhost:8891/notebooks/List.ipynb): 변경가능, 중복가능, 정돈됨<br>\n",
    "&nbsp;&nbsp;&nbsp;&nbsp;&nbsp;&nbsp;<br>  -리스트 인덱싱 \n",
    "&nbsp;&nbsp;&nbsp;&nbsp;&nbsp;&nbsp;<br>  -리스트 슬라이싱\n",
    "&nbsp;&nbsp;&nbsp;&nbsp;&nbsp;&nbsp;<br>  -리스트 연산자\n",
    "&nbsp;&nbsp;&nbsp;&nbsp;&nbsp;&nbsp;<br>  -Sequence Containers Indexing\n",
    "&nbsp;&nbsp;&nbsp;&nbsp;&nbsp;&nbsp;<br>  -maths\n",
    "\n",
    "\n",
    "* [Tuple](http://localhost:8891/notebooks/Tuple.ipynb)\n",
    "    : 변경불가능, 중복가능, 정돈됨 \n",
    "  \n",
    "\n",
    "* [Set](http://localhost:8891/notebooks/Set.ipynb): 중복불가능, 색인없음, 정돈되지않음\n",
    "  \n",
    "  \n",
    "* [Dictionary](http://localhost:8891/notebooks/Dictionary.ipynb): 변경가능, 색인가능, 중복불가능, 정돈되지않음 (key & value를 갖는다)\n",
    "  \n",
    "  "
   ]
  },
  {
   "cell_type": "markdown",
   "metadata": {},
   "source": [
    "##  List\n",
    "\n",
    "* 변경가능, 중복가능, 정돈됨\n",
    "\n",
    "```python\n",
    "list[1,5,9] [\"x\",11,8.9] [\"most\"]\n",
    "```\n"
   ]
  },
  {
   "cell_type": "markdown",
   "metadata": {},
   "source": [
    "###  리스트 인덱싱(Indexing)\n",
    "* 리스트의 특정 한 요소만을 선택하기 위하여 인덱싱(Indexing)을 사용 \n",
    "* 첫번째요소는 \"리스트[0]\", 두번째 요소는 \"리스트[1]\" 처럼 표현\n",
    "* 인덱스에 -1, -2 같은 음수를 사용할 수 있다는 점이다. 이 때, -1은 현재 리스트의 마지막 요소를, -2는 뒤에서 두번째 요소를 가리킴"
   ]
  },
  {
   "cell_type": "code",
   "execution_count": 1,
   "metadata": {},
   "outputs": [
    {
     "name": "stdout",
     "output_type": "stream",
     "text": [
      "3\n",
      "['AB', 'Test', 5, 7, 10, 12, False]\n",
      "False\n"
     ]
    }
   ],
   "source": [
    "a = [\"AB\", 3, 5, 7, 10, 12, False]\n",
    "x = a[1]        # a의 두번째 요소 읽기\n",
    "print(x)\n",
    "a[1] = \"Test\"   # a의 두번째 요소 변경\n",
    "print(a)\n",
    "y = a[-1]       # -1은 맨마지막 요소\n",
    "print(y)"
   ]
  },
  {
   "cell_type": "markdown",
   "metadata": {},
   "source": [
    "### 리스트 슬라이싱(Slicing)\n",
    "* 리스트에서 일부 부분 요소들을 선택하기 위하여 슬라이스(Slice)를 사용\n",
    "\n",
    "* 슬라이스는 \"리스트[처음인덱스:마지막인덱스]\"와 같이 인덱스 표현에서 부분집합의 범위를 지정하는 것\n",
    "    * \"리스트[처음인덱스:마지막인덱스]\"에서 처음인덱스 부터 시작하여, 마지막인덱스 -1 까지를 의미\n",
    "    * 즉 마지막 인덴스는 제외됨\n",
    "    \n",
    "* 만약 처음 인덱스가 생략되면, 0 부터 시작되며, 마지막 인덱스가 생략되면, 리스트의 끝까지 포함됨을 의미한다."
   ]
  },
  {
   "cell_type": "code",
   "execution_count": 2,
   "metadata": {},
   "outputs": [
    {
     "name": "stdout",
     "output_type": "stream",
     "text": [
      "[3, 5]\n",
      "[1, 3]\n",
      "[7, 10, 20, 30, 40]\n"
     ]
    }
   ],
   "source": [
    "a = [1, 3, 5, 7, 10, 20, 30, 40]\n",
    "x = a[1:3]     # [3, 5]\n",
    "print(x)\n",
    "x = a[:2]      # [1, 3]\n",
    "print(x)\n",
    "x = a[3:]      # [7, 10]\n",
    "print(x)"
   ]
  },
  {
   "cell_type": "markdown",
   "metadata": {},
   "source": [
    "* 제일 뒤 숫자를 불러온다\n",
    "\n",
    "\n",
    "```python\n",
    "a[-1]\n",
    "```\n",
    "\n",
    "&nbsp; &nbsp; &nbsp; &nbsp; out: 40\n",
    "\n"
   ]
  },
  {
   "cell_type": "markdown",
   "metadata": {},
   "source": [
    "* 처음부터 제일 마지막 숫자 전까지 출력\n",
    "```python\n",
    "a[:-1]\n",
    "```\n",
    "\n",
    "&nbsp; &nbsp; &nbsp; &nbsp; out: a = [1, 3, 5, 7, 10, 20, 30]"
   ]
  },
  {
   "cell_type": "markdown",
   "metadata": {},
   "source": [
    "* 처음부터 마지막 숫자 전까지 중에 첫번째부터 다섯번째 숫자까지 출력\n",
    "```python\n",
    "a[:-1][1:5]\n",
    "```\n",
    "\n",
    "&nbsp; &nbsp; &nbsp; &nbsp; out: [3, 5, 7, 10]"
   ]
  },
  {
   "cell_type": "markdown",
   "metadata": {},
   "source": [
    "* 처음부터 마지막 숫자 전까지 중에 첫번째부터 다섯번째 숫자까지 역순으로 출력\n",
    "```python\n",
    "a[:-1][1:5][::-1]\n",
    "```\n",
    "\n",
    "&nbsp; &nbsp; &nbsp; &nbsp; out: [10, 7, 5, 3]"
   ]
  },
  {
   "cell_type": "markdown",
   "metadata": {},
   "source": [
    "* 처음부터 마지막 숫자 전까지 중에 첫번째부터 다섯번째 숫자까지 역순으로 2개 간격으로 출력\n",
    "```python\n",
    "a[:-1][1:5][::-2]\n",
    "```\n",
    "\n",
    "&nbsp; &nbsp; &nbsp; &nbsp; out: [10, 5]"
   ]
  },
  {
   "cell_type": "markdown",
   "metadata": {},
   "source": [
    "* 처음부터 마지막 숫자 전까지 중에 첫번째부터 다섯번째 숫자까지 2개 간격으로 출력\n",
    "\n",
    "```python\n",
    "a[:-1][1:5][2]\n",
    "```\n",
    "\n",
    "&nbsp; &nbsp; &nbsp; &nbsp; out:[ 7]"
   ]
  },
  {
   "cell_type": "markdown",
   "metadata": {},
   "source": [
    "* 처음부터 마지막 숫자까지 3개 간격으로 출력\n",
    "```python\n",
    "a[::3]\n",
    "```\n",
    "\n",
    "&nbsp; &nbsp; &nbsp; &nbsp; out: [1, 7, 30]"
   ]
  },
  {
   "cell_type": "markdown",
   "metadata": {},
   "source": [
    "* 처음부터 마지막에서 두번째 숫자 전까지 2개간격으로 출력\n",
    "```python\n",
    "a[1:-2:2]\n",
    "```\n",
    "\n",
    "&nbsp; &nbsp; &nbsp; &nbsp; out: [3, 7, 20]"
   ]
  },
  {
   "cell_type": "markdown",
   "metadata": {},
   "source": [
    "* 처음부터 마지막 숫자까지 2개 간격으로 출력\n",
    "```python\n",
    "a[::2]\n",
    "```\n",
    "\n",
    "&nbsp; &nbsp; &nbsp; &nbsp; out: [1, 5, 10, 30]"
   ]
  },
  {
   "cell_type": "markdown",
   "metadata": {},
   "source": [
    "* 마지막 두번째 숫자 전부터 처음까지 역순으로 2개간격으로 출력\n",
    "```python\n",
    "a[::-2]\n",
    "```\n",
    "\n",
    "&nbsp; &nbsp; &nbsp; &nbsp; out: [40, 20, 7, 3]"
   ]
  },
  {
   "cell_type": "markdown",
   "metadata": {},
   "source": [
    "* 마지막 숫자 전부터 처음까지 역순으로 1개간격으로 출력\n",
    "```python\n",
    "a[::-1]\n",
    "```\n",
    "\n",
    "&nbsp; &nbsp; &nbsp; &nbsp; out: [40, 30, 20, 10, 7, 5, 3, 1]"
   ]
  },
  {
   "cell_type": "markdown",
   "metadata": {},
   "source": [
    "* (list속에 list가 있는 경우)&nbsp; &nbsp; list에서 2번째 list를 출력한다\n",
    "```python\n",
    "list_in_list = [1, 2, ['a', 'b', ['Life', 'is']]]\n",
    "```\n",
    "```python\n",
    "list_in_list[2]\n",
    "```\n",
    "\n",
    "&nbsp; &nbsp; &nbsp; &nbsp; out:  ['a', 'b', ['Life', 'is']]\n"
   ]
  },
  {
   "cell_type": "markdown",
   "metadata": {},
   "source": [
    "* (list속에 list가 있는 경우) &nbsp; &nbsp;list속에 2번째 list에서 2번째 list를 출력\n",
    "```python\n",
    "list_in_list = [1, 2, ['a', 'b', ['Life', 'is']]]\n",
    "```\n",
    "```python\n",
    "list_in_list[2][2]\n",
    "```\n",
    "&nbsp; &nbsp; &nbsp; &nbsp; out: ['Life', 'is']\n"
   ]
  },
  {
   "cell_type": "markdown",
   "metadata": {},
   "source": [
    "### 리스트 연산자 "
   ]
  },
  {
   "cell_type": "markdown",
   "metadata": {},
   "source": [
    "```python\n",
    "a = [1, 2, 3]\n",
    "b = [4, 5, 6]\n",
    "a+b\n",
    "```\n",
    "\n",
    "&nbsp;&nbsp;&nbsp;&nbsp; out: [1, 2, 3, 4, 5, 6]"
   ]
  },
  {
   "cell_type": "markdown",
   "metadata": {},
   "source": [
    "```python\n",
    "a = [1, 2, 3]\n",
    "b = [3, 5, 6]\n",
    "list(set(a) & set(b))  #교집합(intersection)\n",
    "```\n",
    "\n",
    "&nbsp;&nbsp;&nbsp;&nbsp; out: [3]"
   ]
  },
  {
   "cell_type": "markdown",
   "metadata": {},
   "source": [
    "```python\n",
    "list(set(a) | set(b))   #합집합(union)\n",
    "```\n",
    "\n",
    "&nbsp;&nbsp;&nbsp;&nbsp; out: [1, 2, 3, 5, 6]"
   ]
  },
  {
   "cell_type": "markdown",
   "metadata": {},
   "source": [
    "```python\n",
    "a=[1,4,5]\n",
    "a * 3\n",
    "```\n",
    "&nbsp;&nbsp;&nbsp;&nbsp; out: [1, 4, 5, 1, 4, 5, 1, 4, 5]"
   ]
  },
  {
   "cell_type": "markdown",
   "metadata": {},
   "source": [
    "### Sequence Containers Indexing"
   ]
  },
  {
   "cell_type": "code",
   "execution_count": 13,
   "metadata": {},
   "outputs": [],
   "source": [
    "lst=[10, 20, 30, 40, 50]"
   ]
  },
  {
   "cell_type": "code",
   "execution_count": 18,
   "metadata": {},
   "outputs": [
    {
     "name": "stdout",
     "output_type": "stream",
     "text": [
      "5\n",
      "10\n",
      "20\n",
      "50\n",
      "40\n",
      "[10, 20, 30, 40]\n",
      "[20, 30, 40]\n",
      "[10, 30, 50]\n",
      "[50, 40, 30, 20, 10]\n",
      "[50, 30, 10]\n",
      "[10, 20, 30, 40, 50]\n",
      "[20, 30]\n",
      "[30, 40]\n",
      "[10, 20, 30]\n",
      "[40, 50]\n"
     ]
    }
   ],
   "source": [
    "print(len(lst))       # Items count\n",
    "print(lst[0])\n",
    "print(lst[1])\n",
    "print(lst[-1])\n",
    "print(lst[-2])\n",
    "print(lst[:-1])\n",
    "print(lst[1:-1])\n",
    "print(lst[::2])\n",
    "print(lst[::-1])\n",
    "print(lst[::-2])\n",
    "print(lst[:])\n",
    "print(lst[1:3])\n",
    "print(lst[-3:-1])\n",
    "print(lst[:3])\n",
    "print(lst[3:])\n"
   ]
  },
  {
   "cell_type": "markdown",
   "metadata": {},
   "source": [
    "# maths"
   ]
  },
  {
   "cell_type": "code",
   "execution_count": 39,
   "metadata": {},
   "outputs": [
    {
     "name": "stdout",
     "output_type": "stream",
     "text": [
      "0.7071067811865476\n",
      "-0.4999999999999998\n",
      "9.0\n",
      "2.0\n",
      "13\n",
      "12\n"
     ]
    }
   ],
   "source": [
    "from math import sin,pi,cos,sqrt,log,ceil,floor,e\n",
    "\n",
    "print(sin(pi/4))\n",
    "print(cos(2*pi/3))\n",
    "print(sqrt(81))\n",
    "print(log(e**2))\n",
    "print(ceil(12.5))\n",
    "print(floor(12.5))"
   ]
  }
 ],
 "metadata": {
  "kernelspec": {
   "display_name": "Python 3",
   "language": "python",
   "name": "python3"
  },
  "language_info": {
   "codemirror_mode": {
    "name": "ipython",
    "version": 3
   },
   "file_extension": ".py",
   "mimetype": "text/x-python",
   "name": "python",
   "nbconvert_exporter": "python",
   "pygments_lexer": "ipython3",
   "version": "3.6.5"
  }
 },
 "nbformat": 4,
 "nbformat_minor": 2
}
