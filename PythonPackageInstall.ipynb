{
 "cells": [
  {
   "cell_type": "markdown",
   "metadata": {},
   "source": [
    "## Python\n",
    "* creator : [Guido van Rossum](https://en.wikipedia.org/wiki/Guido_van_Rossum), 1989\n",
    "* [What is Pythonic?](https://blog.startifact.com/posts/older/what-is-pythonic.html)\n",
    "* Interpreter 방식 : script language\n",
    "\n",
    "\n",
    "## Python Tutorials\n",
    "\n",
    "<ul>\n",
    "  <li><a href=\"https://www.w3schools.com/python/\" target=\"_blank\">W3 School :  Python Tutorial</a> </li>\n",
    "  <li><a href=\"https://perso.limsi.fr/pointal/_media/python:cours:mementopython3-english.pdf\" target=\"_blank\">Python 3 Cheat Sheet</a> </li>\n",
    "    <li><a href=\"https://thepythonguru.com\" target=\"_blank\">\n",
    "https://thepythonguru.com\n",
    "</a> </li>\n",
    "    <li><a href=\"https://docs.python.org/3/tutorial/\" target=\"_blank\">\n",
    "https://docs.python.org/3/tutorial/\n",
    "</a> </li>\n",
    "</ul>\n",
    "\n",
    "> Copyright (c) 2018 Hugon Kim(Ph.D) <br>\n",
    "> [good47906@gmail.com](mailto:good47906@gmail.com) <br>\n",
    "> [(주)에이옵트)](http://aopt.biz\" target=\"_blank)<br>\n",
    "> [mdhub.io](https://mdhub.io)"
   ]
  },
  {
   "cell_type": "markdown",
   "metadata": {},
   "source": [
    "# Python package install\n",
    "1. What is Anaconda and conda?\n",
    "   * Conda is a package manager; Anaconda is a distribution. Although Conda is packaged with Anaconda, the two are distinct entities with distinct goals.\n",
    "   * conda installs any package in conda environments.\n",
    "   * \\$conda install pkgname    \n",
    "   * \\$conda list    \n",
    "2. PIP is a package manager for Python packages, or modules if you like. \n",
    "   * pip installs python packages in any environment.\n",
    "   * pip now installs binary wheels if they are available, else it compiles everything from source.\n",
    "   * [https://pypi.org/](https://pypi.org/)\n",
    "   * \\$pip install pkgname    \n",
    "   * \\$pip list ( or pip freeze)    \n",
    "3. setup.py\n",
    "   * \\$git clone https://github.com/user/foo  \n",
    "   * \\$cd foo\n",
    "   * \\$python setup.py install\n",
    "\n",
    "## Python package install via Jupyter Notebook\n"
   ]
  },
  {
   "cell_type": "code",
   "execution_count": 3,
   "metadata": {},
   "outputs": [
    {
     "data": {
      "text/plain": [
       "'1.14.3'"
      ]
     },
     "execution_count": 3,
     "metadata": {},
     "output_type": "execute_result"
    }
   ],
   "source": [
    "import numpy as np\n",
    "np.__version__"
   ]
  },
  {
   "cell_type": "code",
   "execution_count": 5,
   "metadata": {},
   "outputs": [
    {
     "ename": "ModuleNotFoundError",
     "evalue": "No module named 'vega'",
     "output_type": "error",
     "traceback": [
      "\u001b[1;31m---------------------------------------------------------------------------\u001b[0m",
      "\u001b[1;31mModuleNotFoundError\u001b[0m                       Traceback (most recent call last)",
      "\u001b[1;32m<ipython-input-5-21b58a17a606>\u001b[0m in \u001b[0;36m<module>\u001b[1;34m()\u001b[0m\n\u001b[1;32m----> 1\u001b[1;33m \u001b[1;32mimport\u001b[0m \u001b[0mvega\u001b[0m\u001b[1;33m\u001b[0m\u001b[0m\n\u001b[0m",
      "\u001b[1;31mModuleNotFoundError\u001b[0m: No module named 'vega'"
     ]
    }
   ],
   "source": [
    "import vega"
   ]
  },
  {
   "cell_type": "code",
   "execution_count": null,
   "metadata": {},
   "outputs": [],
   "source": [
    "import sys\n",
    "!conda install --yes --prefix {sys.prefix} numpy\n",
    "!{sys.executable} -m pip install --upgrade pip\n",
    "!{sys.executable} -m pip install xgboost\n",
    "!{sys.executable} -m pip install shap"
   ]
  },
  {
   "cell_type": "code",
   "execution_count": 2,
   "metadata": {},
   "outputs": [
    {
     "name": "stdout",
     "output_type": "stream",
     "text": [
      "-a: not found\r\n",
      "python is /usr/bin/python\r\n"
     ]
    }
   ],
   "source": [
    "!type python"
   ]
  },
  {
   "cell_type": "code",
   "execution_count": 3,
   "metadata": {},
   "outputs": [
    {
     "name": "stdout",
     "output_type": "stream",
     "text": [
      "conda: not found\r\n"
     ]
    }
   ],
   "source": [
    "!type conda"
   ]
  },
  {
   "cell_type": "code",
   "execution_count": 6,
   "metadata": {},
   "outputs": [
    {
     "name": "stdout",
     "output_type": "stream",
     "text": [
      "/usr/bin/python: No module named pip\r\n"
     ]
    }
   ],
   "source": [
    "!python -m pip --version"
   ]
  },
  {
   "cell_type": "markdown",
   "metadata": {},
   "source": [
    "# virtualenv\n",
    "* 서로 다양한 version의 package를 일괄적으로 관리하는데 필요함\n",
    "* 예를 들어 \n",
    "   * projectA에서 numpy=1.1, opencv=2.2 를 사용하고,\n",
    "   * projectB에서 numpy=1.2, opencv=2.1 를 사용하는 경우\n",
    "   * projectA, projectA를 위한 virtualenv를 만들어서 package를 설치하여 projectA, projectA를 각각 운영하면 됨"
   ]
  },
  {
   "cell_type": "markdown",
   "metadata": {},
   "source": [
    "## windows :  run anaconda prompt\n",
    "* (base) C:\\Users\\kim>\n",
    "* (base) C:\\Users\\kim>conda create -n myenv   \n",
    "* (base) C:\\Users\\kim>conda create -n myenv python=3.4 <===실행하지 말 것\n",
    "* (base) C:\\Users\\kim>conda activate myenv\n",
    "* (myenv) C:\\Users\\kim>\n",
    "* (myenv) C:\\Users\\kim>conda install -n myenv keras\n",
    "* (myenv) C:\\Users\\kim>conda install --yes --file requirements.txt\n",
    "* (myenv) C:\\Users\\kim>jupyter notebook\n",
    "* (myenv) C:\\Users\\kim>conda info --envs\n",
    "* (myenv) C:\\Users\\kim>conda list\n",
    "*  ...\n",
    "* (myenv) C:\\Users\\kim>conda list -e > requirements.txt\n",
    "* (myenv) C:\\Users\\kim> deactivate\n",
    "* (base) C:\\Users\\kim>    "
   ]
  },
  {
   "cell_type": "markdown",
   "metadata": {},
   "source": [
    "## Linux\n",
    "* \\$\n",
    "* \\$conda create -n myenv\n",
    "* \\$source activate myenv\n",
    "* (myenv) \\$\n",
    "* (myenv) \\$conda install -n myenv keras\n",
    "* (myenv) \\$conda install --yes --file requirements.txt\n",
    "* (myenv) \\$jupyter notebook\n",
    "* (myenv) \\$conda info --envs\n",
    "* (myenv) \\$conda list\n",
    "*  ...\n",
    "* (myenv) \\$conda list -e > requirements.txt\n",
    "* (myenv) \\$source deactivate\n",
    "* \\$"
   ]
  }
 ],
 "metadata": {
  "kernelspec": {
   "display_name": "Python 3",
   "language": "python",
   "name": "python3"
  },
  "language_info": {
   "codemirror_mode": {
    "name": "ipython",
    "version": 3
   },
   "file_extension": ".py",
   "mimetype": "text/x-python",
   "name": "python",
   "nbconvert_exporter": "python",
   "pygments_lexer": "ipython3",
   "version": "3.6.5"
  }
 },
 "nbformat": 4,
 "nbformat_minor": 2
}
