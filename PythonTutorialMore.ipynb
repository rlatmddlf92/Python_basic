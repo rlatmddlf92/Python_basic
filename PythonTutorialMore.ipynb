{
 "cells": [
  {
   "cell_type": "markdown",
   "metadata": {},
   "source": [
    "## Python\n",
    "* creator : [Guido van Rossum](https://en.wikipedia.org/wiki/Guido_van_Rossum), 1989\n",
    "* [What is Pythonic?](https://blog.startifact.com/posts/older/what-is-pythonic.html)\n",
    "* Interpreter 방식 : script language\n",
    "\n",
    "\n",
    "## Compound statements\n",
    "\n",
    "<ul>\n",
    "  <li><a href=\"https://docs.python.org/3.4/reference/compound_stmts.html\" target=\"_blank\">Compound statements</a> </li>\n",
    "  <li><a href=\"http://blog.teamtreehouse.com/python-single-line-loops\" target=\"_blank\">\n",
    "LEARN\n",
    "Python Single Line For Loops</a> </li>\n",
    "  <li><a href=\"https://www.digitalocean.com/community/tutorials/understanding-list-comprehensions-in-python-3\" target=\"_blank\">\n",
    "Understanding List Comprehensions in Python 3</a> </li>\n",
    "</ul>\n",
    "\n",
    "\n",
    "\n",
    "## Python Tutorials\n",
    "\n",
    "<ul>\n",
    "  <li><a href=\"https://www.w3schools.com/python/\" target=\"_blank\">W3 School :  Python Tutorial</a> </li>\n",
    "  <li><a href=\"https://perso.limsi.fr/pointal/_media/python:cours:mementopython3-english.pdf\" target=\"_blank\">Python 3 Cheat Sheet</a> </li>\n",
    "    <li><a href=\"https://thepythonguru.com\" target=\"_blank\">\n",
    "https://thepythonguru.com\n",
    "</a> </li>\n",
    "    <li><a href=\"https://docs.python.org/3/tutorial/\" target=\"_blank\">\n",
    "https://docs.python.org/3/tutorial/\n",
    "</a> </li>\n",
    "</ul>\n",
    "\n",
    "> Copyright (c) 2018 Hugon Kim(Ph.D) <br>\n",
    "> [good47906@gmail.com](mailto:good47906@gmail.com) <br>\n",
    "> [(주)에이옵트)](http://aopt.biz\" target=\"_blank)<br>\n",
    "> [mdhub.io](https://mdhub.io)"
   ]
  },
  {
   "cell_type": "markdown",
   "metadata": {},
   "source": [
    "[W3Schools Python Tutorial](https://www.w3schools.com/python/)"
   ]
  },
  {
   "cell_type": "markdown",
   "metadata": {},
   "source": [
    "# Single Line If"
   ]
  },
  {
   "cell_type": "code",
   "execution_count": 1,
   "metadata": {},
   "outputs": [
    {
     "name": "stdout",
     "output_type": "stream",
     "text": [
      "kid\n",
      "kid\n"
     ]
    }
   ],
   "source": [
    "age = 15\n",
    "if age<18:\n",
    "    print('kid')\n",
    "else:\n",
    "    print('adult')\n",
    "    \n",
    "    \n",
    "# Conditions are evaluated from left to right\n",
    "#     ( 실행1  if조건   else  실행2)\n",
    "print('kid' if age < 18 else 'adult')"
   ]
  },
  {
   "cell_type": "code",
   "execution_count": 2,
   "metadata": {},
   "outputs": [
    {
     "name": "stdout",
     "output_type": "stream",
     "text": [
      "kid\n",
      "kid\n"
     ]
    }
   ],
   "source": [
    "age = 12\n",
    "if age < 18:\n",
    "    if age < 13:\n",
    "        print('kid')\n",
    "    else:\n",
    "        print('teenager')\n",
    "else:\n",
    "    print('adult')\n",
    "    \n",
    "print('kid' if age < 13 else 'teenager' if age < 18 else 'adult')"
   ]
  },
  {
   "cell_type": "markdown",
   "metadata": {},
   "source": [
    "## Alternatives to the ternary operator"
   ]
  },
  {
   "cell_type": "code",
   "execution_count": 7,
   "metadata": {},
   "outputs": [
    {
     "name": "stdout",
     "output_type": "stream",
     "text": [
      "kid\n",
      "kid\n",
      "kid\n",
      "adult\n",
      "None\n"
     ]
    }
   ],
   "source": [
    "age = 15\n",
    "# Selecting an item from a tuple\n",
    "#      ((False,True)  [조건문])\n",
    "print(('adult', 'kid')[age < 20])\n",
    "\n",
    "# Which is the equivalent of...\n",
    "print(('adult', 'kid')[True])\n",
    "\n",
    "# Or more explicit by using dict\n",
    "# {True일때 실행할것, False일때 실행할것}[조건문]\n",
    "# 응용 > {True{True,False}일때 실행할것, False{True,False}일때 실행할것}[조건문]\n",
    "\n",
    "print({True:print('kid'), False: print('adult')}[age < 20])"
   ]
  },
  {
   "cell_type": "code",
   "execution_count": 8,
   "metadata": {},
   "outputs": [
    {
     "name": "stdout",
     "output_type": "stream",
     "text": [
      "kid\n",
      "kid1\n",
      "teenager1\n"
     ]
    }
   ],
   "source": [
    "age = 12\n",
    "print('kid' if age < 13 else 'teenager' if age < 18 else 'adult')\n",
    "# Selecting an item from a tuple\n",
    "{True: {True: print('kid1'), False: print('teenager1')}[age < 13], False: 'adult1'}[age < 20]"
   ]
  },
  {
   "cell_type": "markdown",
   "metadata": {},
   "source": [
    "# Single Line For Loop"
   ]
  },
  {
   "cell_type": "code",
   "execution_count": 10,
   "metadata": {},
   "outputs": [
    {
     "name": "stdout",
     "output_type": "stream",
     "text": [
      "[2, 4, 6, 8, 10, 12, 14, 16, 18, 20]\n",
      "[2, 4, 6, 8, 10, 12, 14, 16, 18, 20]\n"
     ]
    }
   ],
   "source": [
    "lst=[]\n",
    "for num in range(1,11):\n",
    "    lst.append(num*2)\n",
    "print(lst)\n",
    "    \n",
    "doubled = [num*2 for num in range(1,11)]\n",
    "print(doubled)"
   ]
  },
  {
   "cell_type": "code",
   "execution_count": 16,
   "metadata": {},
   "outputs": [
    {
     "name": "stdout",
     "output_type": "stream",
     "text": [
      "['blowfish', 'clownfish', 'catfish']\n",
      "['blowfish', 'clownfish', 'catfish', 'abc']\n"
     ]
    }
   ],
   "source": [
    "fish_tuple = ('blowfish', 'clownfish', 'catfish', 'octopus')\n",
    "\n",
    "fish_list = [fish for fish in fish_tuple if fish != 'octopus']\n",
    "print(fish_list)\n",
    "\n",
    "fish_list = [fish if fish != 'octopus' else 'abc' for fish in fish_tuple]\n",
    "print(fish_list)"
   ]
  },
  {
   "cell_type": "code",
   "execution_count": 21,
   "metadata": {},
   "outputs": [
    {
     "data": {
      "text/plain": [
       "['blowfish', 'clownfish', 'catfish']"
      ]
     },
     "execution_count": 21,
     "metadata": {},
     "output_type": "execute_result"
    }
   ],
   "source": [
    "fish_tuple = ('blowfish', 'clownfish', 'catfish', 'octopus')\n",
    "fish_list=[]\n",
    "for fish in fish_tuple:\n",
    "    if fish !='octopus':\n",
    "        fish_list.append(fish)\n",
    "fish_list"
   ]
  },
  {
   "cell_type": "code",
   "execution_count": 22,
   "metadata": {},
   "outputs": [
    {
     "data": {
      "text/plain": [
       "['blowfish', 'clownfish', 'catfish', 'abc']"
      ]
     },
     "execution_count": 22,
     "metadata": {},
     "output_type": "execute_result"
    }
   ],
   "source": [
    "fish_list=[]\n",
    "for fish in fish_tuple:\n",
    "    if fish !='octopus':\n",
    "        fish_list.append(fish)\n",
    "    else:\n",
    "         fish_list.append('abc')\n",
    "fish_list"
   ]
  },
  {
   "cell_type": "code",
   "execution_count": 24,
   "metadata": {},
   "outputs": [
    {
     "name": "stdout",
     "output_type": "stream",
     "text": [
      "0 0 [0]\n",
      "1 1 [0]\n",
      "2 0 [0, 4]\n",
      "3 1 [0, 4]\n",
      "4 0 [0, 4, 16]\n",
      "5 1 [0, 4, 16]\n",
      "6 0 [0, 4, 16, 36]\n",
      "7 1 [0, 4, 16, 36]\n",
      "8 0 [0, 4, 16, 36, 64]\n",
      "9 1 [0, 4, 16, 36, 64]\n",
      "[0, 4, 16, 36, 64]\n",
      "[0, 4, 16, 36, 64]\n"
     ]
    }
   ],
   "source": [
    "lst=[]\n",
    "for x in range(10):\n",
    "        if  x % 2 == 0:\n",
    "            lst.append(x**2)\n",
    "        print(x,x%2,lst)\n",
    "print(lst)\n",
    "\n",
    "number_list = [x ** 2 for x in range(10) if x % 2 == 0]\n",
    "print(number_list)"
   ]
  },
  {
   "cell_type": "code",
   "execution_count": 14,
   "metadata": {},
   "outputs": [
    {
     "data": {
      "text/plain": [
       "[1, 200, 3, 400, 5, 600, 7, 800, 9, 1000]"
      ]
     },
     "execution_count": 14,
     "metadata": {},
     "output_type": "execute_result"
    }
   ],
   "source": [
    "[ x if x%2 else x*100 for x in range(1, 11) ]"
   ]
  },
  {
   "cell_type": "code",
   "execution_count": 29,
   "metadata": {},
   "outputs": [
    {
     "name": "stdout",
     "output_type": "stream",
     "text": [
      "1 1 [1]\n",
      "2 0 [1, 200]\n",
      "3 1 [1, 200, 3]\n",
      "4 0 [1, 200, 3, 400]\n",
      "5 1 [1, 200, 3, 400, 5]\n",
      "6 0 [1, 200, 3, 400, 5, 600]\n",
      "7 1 [1, 200, 3, 400, 5, 600, 7]\n",
      "8 0 [1, 200, 3, 400, 5, 600, 7, 800]\n",
      "9 1 [1, 200, 3, 400, 5, 600, 7, 800, 9]\n",
      "10 0 [1, 200, 3, 400, 5, 600, 7, 800, 9, 1000]\n",
      "[1, 200, 3, 400, 5, 600, 7, 800, 9, 1000]\n"
     ]
    }
   ],
   "source": [
    "lst=[]\n",
    "for x in range(1,11):\n",
    "        if  x % 2:\n",
    "            lst.append(x)\n",
    "        else:\n",
    "            lst.append(x*100)\n",
    "        print(x,x%2,lst)\n",
    "print(lst)"
   ]
  },
  {
   "cell_type": "code",
   "execution_count": 31,
   "metadata": {},
   "outputs": [
    {
     "name": "stdout",
     "output_type": "stream",
     "text": [
      "[1, 200, 3, 400, 5, 600, 7, 800, 9, 1000]\n"
     ]
    },
    {
     "data": {
      "text/plain": [
       "[1, 200, 3, 400, 5, 600, 7, 800, 9, 1000]"
      ]
     },
     "execution_count": 31,
     "metadata": {},
     "output_type": "execute_result"
    }
   ],
   "source": [
    "print([ x if x%2 else x*100 for x in range(1, 11) ])\n",
    "\n",
    "[[x*100, x][x%2] for x in range(1,11)]    #[False, True][Expression]"
   ]
  },
  {
   "cell_type": "code",
   "execution_count": 18,
   "metadata": {},
   "outputs": [
    {
     "data": {
      "text/plain": [
       "[1, 200, 3, 400, 5, 600, 7, 800, 9, 1000]"
      ]
     },
     "execution_count": 18,
     "metadata": {},
     "output_type": "execute_result"
    }
   ],
   "source": [
    "[{False:x*100, True:x}[x % 2 != 0] for x in range(1,11)]"
   ]
  },
  {
   "cell_type": "code",
   "execution_count": 19,
   "metadata": {},
   "outputs": [
    {
     "name": "stdout",
     "output_type": "stream",
     "text": [
      "[0, 15, 30, 45, 60, 75, 90]\n"
     ]
    }
   ],
   "source": [
    "number_list = [x for x in range(100) if x % 3 == 0 if x % 5 == 0]\n",
    "print(number_list)"
   ]
  },
  {
   "cell_type": "code",
   "execution_count": 44,
   "metadata": {},
   "outputs": [
    {
     "name": "stdout",
     "output_type": "stream",
     "text": [
      "[0, 15, 30, 45, 60, 75, 90]\n"
     ]
    }
   ],
   "source": [
    "number_list=[]\n",
    "for x in range(100):\n",
    "    if x%3==0:        \n",
    "        if x%5==0:\n",
    "            number_list.append(x)\n",
    "print(number_list)        "
   ]
  },
  {
   "cell_type": "markdown",
   "metadata": {},
   "source": [
    "# Single Line Nested For Loops"
   ]
  },
  {
   "cell_type": "code",
   "execution_count": 45,
   "metadata": {},
   "outputs": [
    {
     "data": {
      "text/plain": [
       "[(1, 3), (1, 4), (2, 3), (2, 1), (2, 4), (3, 1), (3, 4)]"
      ]
     },
     "execution_count": 45,
     "metadata": {},
     "output_type": "execute_result"
    }
   ],
   "source": [
    " [(x, y) for x in [1,2,3] for y in [3,1,4] if x != y]"
   ]
  },
  {
   "cell_type": "code",
   "execution_count": 64,
   "metadata": {},
   "outputs": [
    {
     "data": {
      "text/plain": [
       "[(1, 3), (1, 4), (2, 3), (2, 1), (2, 4), (3, 1), (3, 4)]"
      ]
     },
     "execution_count": 64,
     "metadata": {},
     "output_type": "execute_result"
    }
   ],
   "source": [
    "tuple1=[]\n",
    "for x in [1,2,3]:\n",
    "    for y in [3,1,4]:\n",
    "        if x != y:\n",
    "            tuple1.append((x, y))\n",
    "tuple1"
   ]
  },
  {
   "cell_type": "code",
   "execution_count": 63,
   "metadata": {},
   "outputs": [
    {
     "data": {
      "text/plain": [
       "[(1, 3), (1, 4), (2, 3), (2, 1), (2, 4), (3, 1), (3, 4)]"
      ]
     },
     "execution_count": 63,
     "metadata": {},
     "output_type": "execute_result"
    }
   ],
   "source": [
    "list3=[]\n",
    "for x in [1,2,3]:\n",
    "    for y in [3,1,4]:\n",
    "        if x != y:\n",
    "            list3.append((x, y))\n",
    "list3            "
   ]
  },
  {
   "cell_type": "code",
   "execution_count": 77,
   "metadata": {},
   "outputs": [
    {
     "name": "stdout",
     "output_type": "stream",
     "text": [
      "[['a', 'p', 'p', 'l', 'e'], ['b', 'a', 'n', 'a', 'n', 'a'], ['p', 'e', 'a', 'r'], ['t', 'h', 'e'], ['h', 'e', 'l', 'l', 'o']]\n",
      "['a', 'p', 'p', 'l', 'e']\n",
      "l\n",
      "['p', 'l', 'e']\n"
     ]
    }
   ],
   "source": [
    "listinlist=[[ch for ch in word] for word in (\"apple\", \"banana\", \"pear\", \"the\", \"hello\")]\n",
    "print(listinlist)\n",
    "print(listinlist[0])\n",
    "print(listinlist[0][3])\n",
    "print(listinlist[0][-3:])"
   ]
  },
  {
   "cell_type": "code",
   "execution_count": 86,
   "metadata": {},
   "outputs": [
    {
     "data": {
      "text/plain": [
       "[['a', 'p', 'p', 'l', 'e'],\n",
       " ['b', 'a', 'n', 'a', 'n', 'a'],\n",
       " ['p', 'e', 'a', 'r'],\n",
       " ['t', 'h', 'e'],\n",
       " ['h', 'e', 'l', 'l', 'o']]"
      ]
     },
     "execution_count": 86,
     "metadata": {},
     "output_type": "execute_result"
    }
   ],
   "source": [
    "listinlist=[]\n",
    "for word in (\"apple\", \"banana\", \"pear\", \"the\", \"hello\"):\n",
    "    temp=[]   \n",
    "    for ch in word:\n",
    "        temp.append(ch)\n",
    "    listinlist.append(temp)\n",
    "listinlist"
   ]
  },
  {
   "cell_type": "code",
   "execution_count": 88,
   "metadata": {},
   "outputs": [
    {
     "data": {
      "text/plain": [
       "[50.1, 50.2, 50.3, 50.4, 60.1, 60.2, 60.3, 60.4, 70.1, 70.2, 70.3, 70.4]"
      ]
     },
     "execution_count": 88,
     "metadata": {},
     "output_type": "execute_result"
    }
   ],
   "source": [
    "import itertools\n",
    "\n",
    "A = [50, 60, 70]\n",
    "B = [0.1, 0.2, 0.3, 0.4]\n",
    "\n",
    "[a + b for a, b in itertools.product(A, B)]"
   ]
  },
  {
   "cell_type": "code",
   "execution_count": 91,
   "metadata": {},
   "outputs": [
    {
     "name": "stdout",
     "output_type": "stream",
     "text": [
      "50 0.1 [50.1]\n",
      "50 0.2 [50.1, 50.2]\n",
      "50 0.3 [50.1, 50.2, 50.3]\n",
      "50 0.4 [50.1, 50.2, 50.3, 50.4]\n",
      "60 0.1 [50.1, 50.2, 50.3, 50.4, 60.1]\n",
      "60 0.2 [50.1, 50.2, 50.3, 50.4, 60.1, 60.2]\n",
      "60 0.3 [50.1, 50.2, 50.3, 50.4, 60.1, 60.2, 60.3]\n",
      "60 0.4 [50.1, 50.2, 50.3, 50.4, 60.1, 60.2, 60.3, 60.4]\n",
      "70 0.1 [50.1, 50.2, 50.3, 50.4, 60.1, 60.2, 60.3, 60.4, 70.1]\n",
      "70 0.2 [50.1, 50.2, 50.3, 50.4, 60.1, 60.2, 60.3, 60.4, 70.1, 70.2]\n",
      "70 0.3 [50.1, 50.2, 50.3, 50.4, 60.1, 60.2, 60.3, 60.4, 70.1, 70.2, 70.3]\n",
      "70 0.4 [50.1, 50.2, 50.3, 50.4, 60.1, 60.2, 60.3, 60.4, 70.1, 70.2, 70.3, 70.4]\n"
     ]
    },
    {
     "data": {
      "text/plain": [
       "[50.1, 50.2, 50.3, 50.4, 60.1, 60.2, 60.3, 60.4, 70.1, 70.2, 70.3, 70.4]"
      ]
     },
     "execution_count": 91,
     "metadata": {},
     "output_type": "execute_result"
    }
   ],
   "source": [
    "import itertools\n",
    "\n",
    "A = [50, 60, 70]\n",
    "B = [0.1, 0.2, 0.3, 0.4]\n",
    "\n",
    "lst=[]\n",
    "for a,b in itertools.product(A,B):\n",
    "    lst.append(a+b)\n",
    "    print(a,b,lst)\n",
    "\n",
    "lst"
   ]
  },
  {
   "cell_type": "markdown",
   "metadata": {},
   "source": [
    "# Lambda, filter, reduce and map\n",
    "* [https://www.python-course.eu/python3_lambda.php](https://www.python-course.eu/python3_lambda.php)\n",
    "* lambda function is a way to create small anonymous functions\n",
    "* lambda argument_list: expression \n",
    "* r = map(func, seq)\n",
    "\n",
    "* map: map에 있는 인수를 하나씩 리스트 혹은 튜플에 대입해서 함수를 실행함"
   ]
  },
  {
   "cell_type": "code",
   "execution_count": 29,
   "metadata": {},
   "outputs": [
    {
     "data": {
      "text/plain": [
       "2"
      ]
     },
     "execution_count": 29,
     "metadata": {},
     "output_type": "execute_result"
    }
   ],
   "source": [
    "f = lambda x, y : x + y\n",
    "f(1,1)"
   ]
  },
  {
   "cell_type": "markdown",
   "metadata": {},
   "source": [
    "# map과 for loop\n",
    "* for loop도 실행을 할 수 있지만\n",
    "* map은 vetor형태로 한꺼번에 처리하는 개념임"
   ]
  },
  {
   "cell_type": "code",
   "execution_count": 94,
   "metadata": {},
   "outputs": [
    {
     "data": {
      "text/plain": [
       "[9, 16, 36]"
      ]
     },
     "execution_count": 94,
     "metadata": {},
     "output_type": "execute_result"
    }
   ],
   "source": [
    "def abc(a):\n",
    "    return a**2\n",
    "\n",
    "rst=map(abc,(3,4,6))\n",
    "list(rst)"
   ]
  },
  {
   "cell_type": "code",
   "execution_count": 104,
   "metadata": {},
   "outputs": [
    {
     "data": {
      "text/plain": [
       "[9, 16, 36]"
      ]
     },
     "execution_count": 104,
     "metadata": {},
     "output_type": "execute_result"
    }
   ],
   "source": [
    "rst=[]\n",
    "for i in [3,4,6]:\n",
    "    rst.append(abc(i))\n",
    "list(rst)\n"
   ]
  },
  {
   "cell_type": "code",
   "execution_count": 111,
   "metadata": {},
   "outputs": [
    {
     "name": "stdout",
     "output_type": "stream",
     "text": [
      "[97.7, 98.60000000000001, 99.5, 102.2]\n",
      "[36.5, 37.00000000000001, 37.5, 39.0]\n"
     ]
    }
   ],
   "source": [
    "def fahrenheit(T):\n",
    "    return ((float(9)/5)*T + 32)\n",
    "def celsius(T):\n",
    "    return (float(5)/9)*(T-32)\n",
    "temp = (36.5, 37, 37.5,39)\n",
    "\n",
    "F = map(fahrenheit, temp)\n",
    "temp2=list(F)\n",
    "print(temp2)\n",
    "C = map(celsius, temp2)\n",
    "print(list(C))"
   ]
  },
  {
   "cell_type": "code",
   "execution_count": 36,
   "metadata": {},
   "outputs": [
    {
     "name": "stdout",
     "output_type": "stream",
     "text": [
      "[102.56, 97.7, 99.14, 100.03999999999999]\n"
     ]
    }
   ],
   "source": [
    "Celsius = [39.2, 36.5, 37.3, 37.8]\n",
    "F =list(map(lambda x: (float(9)/5)*x + 32, Celsius))\n",
    "\n",
    "print(F)"
   ]
  },
  {
   "cell_type": "code",
   "execution_count": 37,
   "metadata": {},
   "outputs": [
    {
     "name": "stdout",
     "output_type": "stream",
     "text": [
      "[39.2, 36.5, 37.300000000000004, 37.8]\n"
     ]
    }
   ],
   "source": [
    "C = list(map(lambda x: (float(5)/9)*(x-32), F))\n",
    "print(C)"
   ]
  },
  {
   "cell_type": "code",
   "execution_count": 39,
   "metadata": {},
   "outputs": [
    {
     "name": "stdout",
     "output_type": "stream",
     "text": [
      "[18, 14, 14, 14]\n",
      "[17, 10, 19, 23]\n",
      "[37.5, 33.0, 24.5, 21.0]\n"
     ]
    }
   ],
   "source": [
    "# map() can be applied to more than one list. The lists don't have to have the same length. \n",
    "a = [1, 2, 3, 4]\n",
    "b = [17, 12, 11, 10]\n",
    "c = [-1, -4, 5, 9]\n",
    "print(list(map(lambda x, y : x+y, a, b)))\n",
    "print(list(map(lambda x, y, z : x+y+z, a, b, c)))\n",
    "print(list(map(lambda x, y, z : 2.5*x + 2*y - z, a, b, c)))"
   ]
  },
  {
   "cell_type": "markdown",
   "metadata": {},
   "source": [
    "#  map VS for loop"
   ]
  },
  {
   "cell_type": "code",
   "execution_count": 114,
   "metadata": {},
   "outputs": [
    {
     "name": "stdout",
     "output_type": "stream",
     "text": [
      "158 ns ± 0.00874 ns per loop (mean ± std. dev. of 7 runs, 10000000 loops each)\n"
     ]
    }
   ],
   "source": [
    "maxVal=100000\n",
    "lst=[i for i in range(maxVal)]\n",
    "\n",
    "def abc(a):\n",
    "    return a**2\n",
    "\n",
    "%timeit map(abc,lst)         # timeit: 돌리는데 드는 시간 및 표준편차 등을 표시함"
   ]
  },
  {
   "cell_type": "code",
   "execution_count": 116,
   "metadata": {},
   "outputs": [
    {
     "name": "stdout",
     "output_type": "stream",
     "text": [
      "26.6 ms ± 19.1 µs per loop (mean ± std. dev. of 7 runs, 10 loops each)\n"
     ]
    }
   ],
   "source": [
    "def test():\n",
    "    for i in lst:\n",
    "        i**2\n",
    "%timeit test()    "
   ]
  },
  {
   "cell_type": "markdown",
   "metadata": {},
   "source": [
    "# 재귀함수(recursive function)\n",
    "* fatorial : $n!=n\\cdot n-1\\cdots 2\\cdot 1$\n",
    "* $0!=1$"
   ]
  },
  {
   "cell_type": "code",
   "execution_count": 1,
   "metadata": {},
   "outputs": [
    {
     "name": "stdout",
     "output_type": "stream",
     "text": [
      "1\n",
      "120\n"
     ]
    }
   ],
   "source": [
    "def fact(n):\n",
    "    if n == 0:\n",
    "        return 1\n",
    "    else:\n",
    "        return n * fact(n-1)\n",
    " \n",
    " \n",
    "print(fact(0))\n",
    "print(fact(5))"
   ]
  },
  {
   "cell_type": "markdown",
   "metadata": {},
   "source": [
    "# What is if __name__ == “__main__” ??\n",
    "* 아래의 코드를 작성하여 my_module.py 로 저장\n",
    "* python my_module.py 으로 실행"
   ]
  },
  {
   "cell_type": "code",
   "execution_count": null,
   "metadata": {},
   "outputs": [],
   "source": [
    "# file my_module.py 로 저장\n",
    " \n",
    "foo = 100\n",
    " \n",
    "def hello():\n",
    "    print(\"i am from my_module.py\")\n",
    " \n",
    "if __name__ == \"__main__\":\n",
    "    print(\"Executing as main program\")\n",
    "    print(\"Value of __name__ is: \", __name__)\n",
    "    hello()"
   ]
  },
  {
   "cell_type": "markdown",
   "metadata": {},
   "source": [
    "#  filter(function, iterable)\n",
    "* function - function that tests if elements of an iterable returns true or false.\n",
    "   If None, the function defaults to Identity function - which returns false if any elements are false\n",
    "* iterable - iterable which is to be filtered, could be sets, lists, tuples, or containers of any iterators"
   ]
  },
  {
   "cell_type": "code",
   "execution_count": 42,
   "metadata": {},
   "outputs": [
    {
     "name": "stdout",
     "output_type": "stream",
     "text": [
      "5\n",
      "17\n"
     ]
    }
   ],
   "source": [
    "\n",
    "ages = [5, 12, 17, 18, 24, 32]\n",
    "\n",
    "def myFunc(x):\n",
    "  if not x%2:\n",
    "    return False\n",
    "  else:\n",
    "    return True\n",
    "\n",
    "adults = filter(myFunc, ages)\n",
    "\n",
    "for x in adults:\n",
    "    print(x)"
   ]
  },
  {
   "cell_type": "markdown",
   "metadata": {},
   "source": [
    "#  zip() : Returns an iterator, from two or more iterators\n",
    "* zip() in conjunction with the * operator can be used to unzip a list"
   ]
  },
  {
   "cell_type": "code",
   "execution_count": 43,
   "metadata": {},
   "outputs": [
    {
     "data": {
      "text/plain": [
       "[('John', 'Jenny'), ('Charles', 'Christy'), ('Mike', 'Monica')]"
      ]
     },
     "execution_count": 43,
     "metadata": {},
     "output_type": "execute_result"
    }
   ],
   "source": [
    "a = (\"John\", \"Charles\", \"Mike\")\n",
    "b = (\"Jenny\", \"Christy\", \"Monica\", \"Vicky\")\n",
    "\n",
    "list(zip(a, b))"
   ]
  },
  {
   "cell_type": "code",
   "execution_count": 44,
   "metadata": {},
   "outputs": [
    {
     "name": "stdout",
     "output_type": "stream",
     "text": [
      "[(1, 4), (2, 5), (3, 6)]\n",
      "(1, 2, 3) (4, 5, 6)\n",
      "[1, 2, 3]\n"
     ]
    }
   ],
   "source": [
    "x = [1, 2, 3]\n",
    "y = [4, 5, 6]\n",
    "zipped = zip(x, y)\n",
    "print(list(zipped))\n",
    "[(1, 4), (2, 5), (3, 6)]\n",
    "x2, y2 = zip(*zip(x, y))\n",
    "print(x2, y2)\n",
    "print(x)"
   ]
  },
  {
   "cell_type": "markdown",
   "metadata": {},
   "source": [
    "# JSON in Python\n",
    "* JSON (JavaScript Object Notation) : [http://json.org/](http://json.org/)\n"
   ]
  },
  {
   "cell_type": "code",
   "execution_count": 1,
   "metadata": {},
   "outputs": [
    {
     "name": "stdout",
     "output_type": "stream",
     "text": [
      "30\n"
     ]
    }
   ],
   "source": [
    "import json\n",
    "\n",
    "# some JSON:\n",
    "x =  '{ \"name\":\"John\", \"age\":30, \"city\":\"New York\"}'\n",
    "\n",
    "# parse x:\n",
    "y = json.loads(x)\n",
    "\n",
    "# the result is a Python dictionary:\n",
    "print(y[\"age\"])"
   ]
  },
  {
   "cell_type": "code",
   "execution_count": 2,
   "metadata": {},
   "outputs": [
    {
     "name": "stdout",
     "output_type": "stream",
     "text": [
      "{\"name\": \"John\", \"age\": 30, \"city\": \"New York\"}\n"
     ]
    }
   ],
   "source": [
    "import json\n",
    "\n",
    "# a Python object (dict):\n",
    "x = {\n",
    "  \"name\": \"John\",\n",
    "  \"age\": 30,\n",
    "  \"city\": \"New York\"\n",
    "}\n",
    "\n",
    "# convert into JSON:\n",
    "y = json.dumps(x)\n",
    "\n",
    "# the result is a JSON string:\n",
    "print(y)"
   ]
  },
  {
   "cell_type": "code",
   "execution_count": 3,
   "metadata": {},
   "outputs": [
    {
     "name": "stdout",
     "output_type": "stream",
     "text": [
      "{\"name\": \"John\", \"age\": 30}\n",
      "[\"apple\", \"bananas\"]\n",
      "[\"apple\", \"bananas\"]\n",
      "\"hello\"\n",
      "42\n",
      "31.76\n",
      "true\n",
      "false\n",
      "null\n"
     ]
    }
   ],
   "source": [
    "import json\n",
    "\n",
    "print(json.dumps({\"name\": \"John\", \"age\": 30}))\n",
    "print(json.dumps([\"apple\", \"bananas\"]))\n",
    "print(json.dumps((\"apple\", \"bananas\")))\n",
    "print(json.dumps(\"hello\"))\n",
    "print(json.dumps(42))\n",
    "print(json.dumps(31.76))\n",
    "print(json.dumps(True))\n",
    "print(json.dumps(False))\n",
    "print(json.dumps(None))"
   ]
  },
  {
   "cell_type": "code",
   "execution_count": 4,
   "metadata": {},
   "outputs": [
    {
     "name": "stdout",
     "output_type": "stream",
     "text": [
      "{\"name\": \"John\", \"age\": 30, \"married\": true, \"divorced\": false, \"children\": [\"Ann\", \"Billy\"], \"pets\": null, \"cars\": [{\"model\": \"BMW 230\", \"mpg\": 27.5}, {\"model\": \"Ford Edge\", \"mpg\": 24.1}]}\n"
     ]
    }
   ],
   "source": [
    "# Convert a Python object containing all the legal data types:\n",
    "\n",
    "\n",
    "import json\n",
    "\n",
    "x = {\n",
    "  \"name\": \"John\",\n",
    "  \"age\": 30,\n",
    "  \"married\": True,\n",
    "  \"divorced\": False,\n",
    "  \"children\": (\"Ann\",\"Billy\"),\n",
    "  \"pets\": None,\n",
    "  \"cars\": [\n",
    "    {\"model\": \"BMW 230\", \"mpg\": 27.5},\n",
    "    {\"model\": \"Ford Edge\", \"mpg\": 24.1}\n",
    "  ]\n",
    "}\n",
    "\n",
    "print(json.dumps(x))"
   ]
  },
  {
   "cell_type": "code",
   "execution_count": 5,
   "metadata": {},
   "outputs": [
    {
     "data": {
      "text/plain": [
       "'{\\n    \"name\": \"John\",\\n    \"age\": 30,\\n    \"married\": true,\\n    \"divorced\": false,\\n    \"children\": [\\n        \"Ann\",\\n        \"Billy\"\\n    ],\\n    \"pets\": null,\\n    \"cars\": [\\n        {\\n            \"model\": \"BMW 230\",\\n            \"mpg\": 27.5\\n        },\\n        {\\n            \"model\": \"Ford Edge\",\\n            \"mpg\": 24.1\\n        }\\n    ]\\n}'"
      ]
     },
     "execution_count": 5,
     "metadata": {},
     "output_type": "execute_result"
    }
   ],
   "source": [
    "json.dumps(x, indent=4)"
   ]
  },
  {
   "cell_type": "code",
   "execution_count": 6,
   "metadata": {},
   "outputs": [
    {
     "data": {
      "text/plain": [
       "'{\\n    \"age\": 30,\\n    \"cars\": [\\n        {\\n            \"model\": \"BMW 230\",\\n            \"mpg\": 27.5\\n        },\\n        {\\n            \"model\": \"Ford Edge\",\\n            \"mpg\": 24.1\\n        }\\n    ],\\n    \"children\": [\\n        \"Ann\",\\n        \"Billy\"\\n    ],\\n    \"divorced\": false,\\n    \"married\": true,\\n    \"name\": \"John\",\\n    \"pets\": null\\n}'"
      ]
     },
     "execution_count": 6,
     "metadata": {},
     "output_type": "execute_result"
    }
   ],
   "source": [
    "json.dumps(x, indent=4, sort_keys=True)"
   ]
  },
  {
   "cell_type": "markdown",
   "metadata": {},
   "source": [
    "# raw string, unicode string\n",
    "* \\n: 줄바꾸기\n",
    "* \\t: 칸 띄우기"
   ]
  },
  {
   "cell_type": "code",
   "execution_count": 119,
   "metadata": {},
   "outputs": [
    {
     "name": "stdout",
     "output_type": "stream",
     "text": [
      "this \\ is a long string that is made up of\n",
      "several lines and non-printable characters such as\n",
      "TAB ( \t ) and they will show up that way when displayed.\n",
      "NEWLINEs within the string, \n",
      " \t whether explicitly given like\n",
      "this within the brackets [ \n",
      " ], or just a NEWLINE within\n",
      "the variable assignment will also show up.\n",
      "\n"
     ]
    }
   ],
   "source": [
    "para_str = \"\"\"this \\\\ is a long string that is made up of\n",
    "several lines and non-printable characters such as\n",
    "TAB ( \\t ) and they will show up that way when displayed.\n",
    "NEWLINEs within the string, \\n \\t whether explicitly given like\n",
    "this within the brackets [ \\n ], or just a NEWLINE within\n",
    "the variable assignment will also show up.\n",
    "\"\"\"\n",
    "print (para_str)"
   ]
  },
  {
   "cell_type": "code",
   "execution_count": 120,
   "metadata": {},
   "outputs": [
    {
     "name": "stdout",
     "output_type": "stream",
     "text": [
      "this \\\\ is a long string that is made up of\n",
      "several lines and non-printable characters such as\n",
      "TAB ( \\t ) and they will show up that way when displayed.\n",
      "NEWLINEs within the string, whether explicitly given like\n",
      "this within the brackets [ \\n ], or just a NEWLINE within\n",
      "the variable assignment will also show up.\n",
      "\n"
     ]
    }
   ],
   "source": [
    "## raw string with r\n",
    "r_para_str = r\"\"\"this \\\\ is a long string that is made up of\n",
    "several lines and non-printable characters such as\n",
    "TAB ( \\t ) and they will show up that way when displayed.\n",
    "NEWLINEs within the string, whether explicitly given like\n",
    "this within the brackets [ \\n ], or just a NEWLINE within\n",
    "the variable assignment will also show up.\n",
    "\"\"\"\n",
    "print (r_para_str)"
   ]
  },
  {
   "cell_type": "code",
   "execution_count": 47,
   "metadata": {},
   "outputs": [
    {
     "name": "stdout",
     "output_type": "stream",
     "text": [
      "C:\\nowhere\n",
      "C:\\\\nowhere\n"
     ]
    }
   ],
   "source": [
    "print ('C:\\\\nowhere')\n",
    "print (r'C:\\\\nowhere')"
   ]
  },
  {
   "cell_type": "code",
   "execution_count": 48,
   "metadata": {},
   "outputs": [
    {
     "name": "stdout",
     "output_type": "stream",
     "text": [
      "₩\n",
      "₩120,000,000.0\n"
     ]
    }
   ],
   "source": [
    "won='\\\\u20A9'.encode('utf-8').decode('unicode-escape')\n",
    "print(won)\n",
    "print('{}{:,.1f}'.format(won,120000000.032))  "
   ]
  },
  {
   "cell_type": "code",
   "execution_count": 49,
   "metadata": {},
   "outputs": [
    {
     "name": "stdout",
     "output_type": "stream",
     "text": [
      "@0\n"
     ]
    }
   ],
   "source": [
    "print('\\1000')"
   ]
  },
  {
   "cell_type": "code",
   "execution_count": 50,
   "metadata": {},
   "outputs": [
    {
     "name": "stdout",
     "output_type": "stream",
     "text": [
      "Hè\n",
      "Hè\n"
     ]
    }
   ],
   "source": [
    "s = u'Hè'\n",
    "print(s)\n",
    "s0 = 'Hè'\n",
    "print(s0)"
   ]
  },
  {
   "cell_type": "markdown",
   "metadata": {},
   "source": [
    "#   formatted print: old style"
   ]
  },
  {
   "cell_type": "code",
   "execution_count": 51,
   "metadata": {},
   "outputs": [
    {
     "name": "stdout",
     "output_type": "stream",
     "text": [
      "My name is Erik and height is 178 cm!\n"
     ]
    }
   ],
   "source": [
    "print(\"My name is %s and height is %d cm!\" % ('Erik', 178))"
   ]
  },
  {
   "cell_type": "code",
   "execution_count": 52,
   "metadata": {},
   "outputs": [
    {
     "name": "stdout",
     "output_type": "stream",
     "text": [
      "My name is         Erik, height is   178.33 cm and weight is  80 kg\n"
     ]
    }
   ],
   "source": [
    "print(\"My name is %12s, height is %8.2f cm and weight is %3d kg\" % ('Erik', 178.3333, 80))"
   ]
  },
  {
   "cell_type": "code",
   "execution_count": 54,
   "metadata": {},
   "outputs": [
    {
     "name": "stdout",
     "output_type": "stream",
     "text": [
      "   356.090\n",
      " 3.561e+02\n",
      " 3.561E+02\n",
      "        31\n",
      "       031\n",
      "     00031\n",
      "   2f\n",
      " 002f\n",
      " 002F\n",
      "Only one percentage sign: 20% \n"
     ]
    }
   ],
   "source": [
    "print(\"%10.3f\"% (356.08977))\n",
    "print(\"%10.3e\"% (356.08977))\n",
    "print(\"%10.3E\"% (356.08977))\n",
    "print(\"%10o\"% (25))\n",
    "print(\"%10.3o\"% (25))\n",
    "print(\"%10.5o\"% (25))\n",
    "print(\"%5x\"% (47))\n",
    "print(\"%5.4x\"% (47))\n",
    "print(\"%5.4X\"% (47))\n",
    "print(\"Only one percentage sign: %2d%% \" % (20))"
   ]
  },
  {
   "cell_type": "markdown",
   "metadata": {},
   "source": [
    "#   formatted print: new style"
   ]
  },
  {
   "cell_type": "code",
   "execution_count": 56,
   "metadata": {},
   "outputs": [
    {
     "name": "stdout",
     "output_type": "stream",
     "text": [
      "My name is Erik and height is 178 cm!\n",
      "My name is Erik and height is 178 cm!\n",
      "My name is 178 and height is Erik cm!\n"
     ]
    }
   ],
   "source": [
    "print(\"My name is {} and height is {} cm!\".format('Erik', 178))\n",
    "print(\"My name is {0} and height is {1} cm!\".format('Erik', 178))\n",
    "print(\"My name is {1} and height is {0} cm!\".format('Erik', 178))"
   ]
  },
  {
   "cell_type": "code",
   "execution_count": 121,
   "metadata": {},
   "outputs": [
    {
     "name": "stdout",
     "output_type": "stream",
     "text": [
      "My name is Erik        , height is   178.33 cm and weight is  80 kg\n"
     ]
    }
   ],
   "source": [
    "print(\"My name is {0:12s}, height is {1:8.2f} cm and weight is {2:3d} kg\".format('Erik', 178.3333, 80))\n",
    "# 12s: 문자열인데 12자리를 차지해라\n",
    "# 8.2f: 실순데 소수점은 두자리로하고 8자리로해라\n"
   ]
  },
  {
   "cell_type": "code",
   "execution_count": 59,
   "metadata": {},
   "outputs": [
    {
     "name": "stdout",
     "output_type": "stream",
     "text": [
      "My name is Erik        , height is   178.33 cm and weight is  80 kg\n"
     ]
    }
   ],
   "source": [
    "print(\"My name is {0:s}, height is {1:8.2f} cm and weight is {2:3d} kg\".format('Erik'.ljust(12), 178.3333, 80))"
   ]
  },
  {
   "cell_type": "code",
   "execution_count": 60,
   "metadata": {},
   "outputs": [
    {
     "name": "stdout",
     "output_type": "stream",
     "text": [
      "My name is         Erik, height is   178.33 cm and weight is  80 kg\n"
     ]
    }
   ],
   "source": [
    "print(\"My name is {0:s}, height is {1:8.2f} cm and weight is {2:3d} kg\".format('Erik'.rjust(12), 178.3333, 80))"
   ]
  },
  {
   "cell_type": "code",
   "execution_count": 122,
   "metadata": {},
   "outputs": [
    {
     "name": "stdout",
     "output_type": "stream",
     "text": [
      "My name is Erik        , height is   178.33 cm and weight is  80 kg\n"
     ]
    }
   ],
   "source": [
    "print(\"My name is {name:s}, height is {height:8.2f} cm and weight is {weight:3d} kg\".format(\n",
    "    name='Erik'.ljust(12), height=178.3333, weight=80))\n",
    "\n",
    "# ljust: 왼쪽정렬\n",
    "# rjust: 오른쪽정렬"
   ]
  },
  {
   "cell_type": "code",
   "execution_count": 62,
   "metadata": {},
   "outputs": [
    {
     "name": "stdout",
     "output_type": "stream",
     "text": [
      "My name is Erik~~~~~~~~, height is   178.33 cm and weight is  80 kg\n"
     ]
    }
   ],
   "source": [
    "print(\"My name is {name:s}, height is {height:8.2f} cm and weight is {weight:3d} kg\".format(\n",
    "    name='Erik'.ljust(12,\"~\"), height=178.3333, weight=80))"
   ]
  }
 ],
 "metadata": {
  "kernelspec": {
   "display_name": "Python 3",
   "language": "python",
   "name": "python3"
  },
  "language_info": {
   "codemirror_mode": {
    "name": "ipython",
    "version": 3
   },
   "file_extension": ".py",
   "mimetype": "text/x-python",
   "name": "python",
   "nbconvert_exporter": "python",
   "pygments_lexer": "ipython3",
   "version": "3.6.5"
  }
 },
 "nbformat": 4,
 "nbformat_minor": 2
}
