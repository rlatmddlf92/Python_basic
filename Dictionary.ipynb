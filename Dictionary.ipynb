{
 "cells": [
  {
   "cell_type": "markdown",
   "metadata": {},
   "source": [
    "## Dictionary\n",
    "* A dictionary is a collection which is unordered, changeable and indexed\n",
    "* key와 value의 쌍으로 구성됨\n",
    "* 키(Key)로 신속하게 값(Value)을 찾아내는 해시테이블(Hash Table) 구조 "
   ]
  },
  {
   "cell_type": "code",
   "execution_count": 108,
   "metadata": {},
   "outputs": [
    {
     "name": "stdout",
     "output_type": "stream",
     "text": [
      "{'apple': 'green', 'banana': 'yellow', 'cherry': 'red'}\n"
     ]
    }
   ],
   "source": [
    "thisdict ={\n",
    "  \"apple\": \"green\",\n",
    "  \"banana\": \"yellow\",\n",
    "  \"cherry\": \"red\"\n",
    "}\n",
    "print(thisdict)"
   ]
  },
  {
   "cell_type": "code",
   "execution_count": 113,
   "metadata": {},
   "outputs": [
    {
     "name": "stdout",
     "output_type": "stream",
     "text": [
      "{'apple': 'red', 'banana': 'yellow', 'cherry': 'red'}\n"
     ]
    }
   ],
   "source": [
    "thisdict ={\n",
    "  \"apple\": \"green\",\n",
    "  \"banana\": \"yellow\",\n",
    "  \"cherry\": \"red\"\n",
    "}\n",
    "thisdict[\"apple\"] = \"red\"\n",
    "print(thisdict)"
   ]
  },
  {
   "cell_type": "code",
   "execution_count": 114,
   "metadata": {},
   "outputs": [
    {
     "name": "stdout",
     "output_type": "stream",
     "text": [
      "{'apple': 'green', 'banana': 'yellow', 'cherry': 'red'}\n"
     ]
    }
   ],
   "source": [
    "## The dict() Constructor\n",
    "thisdict =dict(apple=\"green\", banana=\"yellow\", cherry=\"red\")\n",
    "# note that keywords are not string literals\n",
    "# note the use of equals rather than colon for the assignment\n",
    "print(thisdict)"
   ]
  },
  {
   "cell_type": "code",
   "execution_count": 115,
   "metadata": {},
   "outputs": [
    {
     "name": "stdout",
     "output_type": "stream",
     "text": [
      "{'apple': 'green', 'banana': 'yellow', 'cherry': 'red', 'damson': 'purple'}\n"
     ]
    }
   ],
   "source": [
    "thisdict =dict(apple=\"green\", banana=\"yellow\", cherry=\"red\")\n",
    "thisdict[\"damson\"] = \"purple\"\n",
    "print(thisdict)"
   ]
  },
  {
   "cell_type": "code",
   "execution_count": 116,
   "metadata": {},
   "outputs": [
    {
     "name": "stdout",
     "output_type": "stream",
     "text": [
      "{'apple': 'green', 'cherry': 'red'}\n"
     ]
    }
   ],
   "source": [
    "thisdict =dict(apple=\"green\", banana=\"yellow\", cherry=\"red\")\n",
    "del(thisdict[\"banana\"])\n",
    "print(thisdict)"
   ]
  },
  {
   "cell_type": "code",
   "execution_count": 117,
   "metadata": {},
   "outputs": [
    {
     "name": "stdout",
     "output_type": "stream",
     "text": [
      "3\n"
     ]
    }
   ],
   "source": [
    "thisdict =dict(apple=\"green\", banana=\"yellow\", cherry=\"red\")\n",
    "print(len(thisdict))"
   ]
  },
  {
   "cell_type": "code",
   "execution_count": 118,
   "metadata": {},
   "outputs": [
    {
     "data": {
      "text/plain": [
       "{'apple': 'green', 'banana': 'yellow', 'cherry': 'red', 'mylist': [3, 2, 9]}"
      ]
     },
     "execution_count": 118,
     "metadata": {},
     "output_type": "execute_result"
    }
   ],
   "source": [
    "thisdict['mylist']=[3,2,9]\n",
    "thisdict"
   ]
  },
  {
   "cell_type": "code",
   "execution_count": 119,
   "metadata": {},
   "outputs": [
    {
     "data": {
      "text/plain": [
       "{'apple': 'green',\n",
       " 'banana': 'yellow',\n",
       " 'cherry': 'red',\n",
       " 'mylist': [3, 2, 9],\n",
       " 'mytuple': ('a', 'b', 'c')}"
      ]
     },
     "execution_count": 119,
     "metadata": {},
     "output_type": "execute_result"
    }
   ],
   "source": [
    "thisdict['mytuple']=('a','b','c')\n",
    "thisdict"
   ]
  },
  {
   "cell_type": "code",
   "execution_count": 122,
   "metadata": {},
   "outputs": [
    {
     "data": {
      "text/plain": [
       "{'apple': 'green',\n",
       " 'banana': 'yellow',\n",
       " 'cherry': 'red',\n",
       " 'mylist': [3, 2, 9],\n",
       " 'mytuple': ('a', 'b', 'c'),\n",
       " 'mydict': {'abc': 'abc', 'def1': 'def', 'cherry': 'red'},\n",
       " 'myset': {'a', 'b', 'c'}}"
      ]
     },
     "execution_count": 122,
     "metadata": {},
     "output_type": "execute_result"
    }
   ],
   "source": [
    "thisdict['myset']={'a','b','c'}\n",
    "thisdict"
   ]
  },
  {
   "cell_type": "code",
   "execution_count": 123,
   "metadata": {},
   "outputs": [
    {
     "data": {
      "text/plain": [
       "{'apple': 'green',\n",
       " 'banana': 'yellow',\n",
       " 'cherry': 'red',\n",
       " 'mylist': [3, 2, 9],\n",
       " 'mytuple': ('a', 'b', 'c'),\n",
       " 'mydict': {'abc': 'abc', 'def1': 'def', 'cherry': 'red'},\n",
       " 'myset': {'a', 'b', 'c'}}"
      ]
     },
     "execution_count": 123,
     "metadata": {},
     "output_type": "execute_result"
    }
   ],
   "source": [
    "thisdict['mydict']=dict(abc=\"abc\", def1=\"def\", cherry=\"red\")\n",
    "thisdict"
   ]
  }
 ],
 "metadata": {
  "kernelspec": {
   "display_name": "Python 3",
   "language": "python",
   "name": "python3"
  },
  "language_info": {
   "codemirror_mode": {
    "name": "ipython",
    "version": 3
   },
   "file_extension": ".py",
   "mimetype": "text/x-python",
   "name": "python",
   "nbconvert_exporter": "python",
   "pygments_lexer": "ipython3",
   "version": "3.6.5"
  }
 },
 "nbformat": 4,
 "nbformat_minor": 2
}
